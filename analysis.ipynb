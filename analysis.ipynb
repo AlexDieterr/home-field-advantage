{
 "cells": [
  {
   "cell_type": "markdown",
   "metadata": {},
   "source": [
    "# **Analyzing Home-Field Advantage in the NFL**"
   ]
  },
  {
   "cell_type": "markdown",
   "metadata": {},
   "source": [
    "In the world of professional sports, playing at home is often considered a key advantage for teams, especially in high-stakes leagues like the **NFL**(National Football League). **Home-field advantage** has become a central focus of debate, where teams seem to outperform when playing in their own stadium. This phenomenon raises questions: How much of an impact does playing at home truly have on **game outcomes**? What factors drive this advantage—could it be _travel fatigue_ for the _opposing team_, _weather familiarity_, or the electrifying _support of home fans_?\n",
    "\n",
    "In this project, I examine data from **57 NFL seasons** (1966-2023) to uncover the influence of **home-field advantage**. Through the use of _statistical analysis_ and _visualizations_, I aim to quantify this advantage by exploring variables such as _team travel distances_, _weather conditions_, and _rivalries_. The goal is to move beyond anecdotal evidence and offer a comprehensive, data-driven perspective on how playing at home affects NFL teams’ chances of winning."
   ]
  },
  {
   "cell_type": "markdown",
   "metadata": {},
   "source": [
    "## Step 1: Load Data and look aroud\n",
    "_Skipping the real first step, finding the goal of the project._ \n",
    ">\n",
    "For this project, I used **two main datasets**. The first one, from _ESPN_, includes detailed stats from over **14,000 NFL games** played between **1966 and 2023**. It covers information such as **team matchups, scores, locations, spreads**, and even **weather conditions**, which gave me a lot of important information to work with. The second dataset came from _nflfootballstadiums.com_ and contains the **distances between all NFL stadiums**. This helped me look at how far teams had to travel and how that might affect their **performance**. Using both of these datasets allowed me to explore the factors that contribute to home-field advantage in the NFL."
   ]
  },
  {
   "cell_type": "code",
   "execution_count": 74,
   "metadata": {},
   "outputs": [],
   "source": [
    "import pandas as pd\n",
    "import matplotlib.pyplot as plt\n",
    "from scipy import stats\n",
    "\n",
    "game_data = pd.read_csv('../raw_game_data.csv')\n",
    "travel_distances = pd.read_csv('../raw_nfl_stadium_distances.csv')\n"
   ]
  },
  {
   "cell_type": "markdown",
   "metadata": {},
   "source": [
    "Preview each dataset:"
   ]
  },
  {
   "cell_type": "code",
   "execution_count": 75,
   "metadata": {},
   "outputs": [
    {
     "data": {
      "text/html": [
       "<div>\n",
       "<style scoped>\n",
       "    .dataframe tbody tr th:only-of-type {\n",
       "        vertical-align: middle;\n",
       "    }\n",
       "\n",
       "    .dataframe tbody tr th {\n",
       "        vertical-align: top;\n",
       "    }\n",
       "\n",
       "    .dataframe thead th {\n",
       "        text-align: right;\n",
       "    }\n",
       "</style>\n",
       "<table border=\"1\" class=\"dataframe\">\n",
       "  <thead>\n",
       "    <tr style=\"text-align: right;\">\n",
       "      <th></th>\n",
       "      <th>schedule_date</th>\n",
       "      <th>schedule_season</th>\n",
       "      <th>schedule_week</th>\n",
       "      <th>schedule_playoff</th>\n",
       "      <th>team_home</th>\n",
       "      <th>score_home</th>\n",
       "      <th>score_away</th>\n",
       "      <th>team_away</th>\n",
       "      <th>team_favorite_id</th>\n",
       "      <th>spread_favorite</th>\n",
       "      <th>over_under_line</th>\n",
       "      <th>stadium</th>\n",
       "      <th>stadium_neutral</th>\n",
       "      <th>weather_temperature</th>\n",
       "      <th>weather_wind_mph</th>\n",
       "      <th>weather_humidity</th>\n",
       "      <th>weather_detail</th>\n",
       "      <th>home_stadium</th>\n",
       "      <th>away_stadium</th>\n",
       "    </tr>\n",
       "  </thead>\n",
       "  <tbody>\n",
       "    <tr>\n",
       "      <th>0</th>\n",
       "      <td>9/2/1966</td>\n",
       "      <td>1966</td>\n",
       "      <td>1</td>\n",
       "      <td>False</td>\n",
       "      <td>Miami Dolphins</td>\n",
       "      <td>14.0</td>\n",
       "      <td>23.0</td>\n",
       "      <td>Oakland Raiders</td>\n",
       "      <td>NaN</td>\n",
       "      <td>NaN</td>\n",
       "      <td>NaN</td>\n",
       "      <td>Orange Bowl</td>\n",
       "      <td>False</td>\n",
       "      <td>83.0</td>\n",
       "      <td>6.0</td>\n",
       "      <td>71.0</td>\n",
       "      <td>NaN</td>\n",
       "      <td>Hard Rock Stadium</td>\n",
       "      <td>Oakland Coliseum</td>\n",
       "    </tr>\n",
       "    <tr>\n",
       "      <th>1</th>\n",
       "      <td>9/3/1966</td>\n",
       "      <td>1966</td>\n",
       "      <td>1</td>\n",
       "      <td>False</td>\n",
       "      <td>Houston Oilers</td>\n",
       "      <td>45.0</td>\n",
       "      <td>7.0</td>\n",
       "      <td>Denver Broncos</td>\n",
       "      <td>NaN</td>\n",
       "      <td>NaN</td>\n",
       "      <td>NaN</td>\n",
       "      <td>Rice Stadium</td>\n",
       "      <td>False</td>\n",
       "      <td>81.0</td>\n",
       "      <td>7.0</td>\n",
       "      <td>70.0</td>\n",
       "      <td>NaN</td>\n",
       "      <td>Unknown Stadium</td>\n",
       "      <td>Empower Field at Mile High</td>\n",
       "    </tr>\n",
       "    <tr>\n",
       "      <th>2</th>\n",
       "      <td>9/4/1966</td>\n",
       "      <td>1966</td>\n",
       "      <td>1</td>\n",
       "      <td>False</td>\n",
       "      <td>San Diego Chargers</td>\n",
       "      <td>27.0</td>\n",
       "      <td>7.0</td>\n",
       "      <td>Buffalo Bills</td>\n",
       "      <td>NaN</td>\n",
       "      <td>NaN</td>\n",
       "      <td>NaN</td>\n",
       "      <td>Balboa Stadium</td>\n",
       "      <td>False</td>\n",
       "      <td>70.0</td>\n",
       "      <td>7.0</td>\n",
       "      <td>82.0</td>\n",
       "      <td>NaN</td>\n",
       "      <td>Qualcomm Stadium</td>\n",
       "      <td>Highmark Stadium</td>\n",
       "    </tr>\n",
       "    <tr>\n",
       "      <th>3</th>\n",
       "      <td>9/9/1966</td>\n",
       "      <td>1966</td>\n",
       "      <td>2</td>\n",
       "      <td>False</td>\n",
       "      <td>Miami Dolphins</td>\n",
       "      <td>14.0</td>\n",
       "      <td>19.0</td>\n",
       "      <td>New York Jets</td>\n",
       "      <td>NaN</td>\n",
       "      <td>NaN</td>\n",
       "      <td>NaN</td>\n",
       "      <td>Orange Bowl</td>\n",
       "      <td>False</td>\n",
       "      <td>82.0</td>\n",
       "      <td>11.0</td>\n",
       "      <td>78.0</td>\n",
       "      <td>NaN</td>\n",
       "      <td>Hard Rock Stadium</td>\n",
       "      <td>MetLife Stadium</td>\n",
       "    </tr>\n",
       "    <tr>\n",
       "      <th>4</th>\n",
       "      <td>9/10/1966</td>\n",
       "      <td>1966</td>\n",
       "      <td>1</td>\n",
       "      <td>False</td>\n",
       "      <td>Green Bay Packers</td>\n",
       "      <td>24.0</td>\n",
       "      <td>3.0</td>\n",
       "      <td>Baltimore Colts</td>\n",
       "      <td>NaN</td>\n",
       "      <td>NaN</td>\n",
       "      <td>NaN</td>\n",
       "      <td>Lambeau Field</td>\n",
       "      <td>False</td>\n",
       "      <td>64.0</td>\n",
       "      <td>8.0</td>\n",
       "      <td>62.0</td>\n",
       "      <td>NaN</td>\n",
       "      <td>Lambeau Field</td>\n",
       "      <td>Unknown Stadium</td>\n",
       "    </tr>\n",
       "  </tbody>\n",
       "</table>\n",
       "</div>"
      ],
      "text/plain": [
       "  schedule_date  schedule_season schedule_week  schedule_playoff  \\\n",
       "0      9/2/1966             1966             1             False   \n",
       "1      9/3/1966             1966             1             False   \n",
       "2      9/4/1966             1966             1             False   \n",
       "3      9/9/1966             1966             2             False   \n",
       "4     9/10/1966             1966             1             False   \n",
       "\n",
       "            team_home  score_home  score_away        team_away  \\\n",
       "0      Miami Dolphins        14.0        23.0  Oakland Raiders   \n",
       "1      Houston Oilers        45.0         7.0   Denver Broncos   \n",
       "2  San Diego Chargers        27.0         7.0    Buffalo Bills   \n",
       "3      Miami Dolphins        14.0        19.0    New York Jets   \n",
       "4   Green Bay Packers        24.0         3.0  Baltimore Colts   \n",
       "\n",
       "  team_favorite_id  spread_favorite over_under_line         stadium  \\\n",
       "0              NaN              NaN             NaN     Orange Bowl   \n",
       "1              NaN              NaN             NaN    Rice Stadium   \n",
       "2              NaN              NaN             NaN  Balboa Stadium   \n",
       "3              NaN              NaN             NaN     Orange Bowl   \n",
       "4              NaN              NaN             NaN   Lambeau Field   \n",
       "\n",
       "   stadium_neutral  weather_temperature  weather_wind_mph  weather_humidity  \\\n",
       "0            False                 83.0               6.0              71.0   \n",
       "1            False                 81.0               7.0              70.0   \n",
       "2            False                 70.0               7.0              82.0   \n",
       "3            False                 82.0              11.0              78.0   \n",
       "4            False                 64.0               8.0              62.0   \n",
       "\n",
       "  weather_detail       home_stadium                away_stadium  \n",
       "0            NaN  Hard Rock Stadium            Oakland Coliseum  \n",
       "1            NaN    Unknown Stadium  Empower Field at Mile High  \n",
       "2            NaN   Qualcomm Stadium            Highmark Stadium  \n",
       "3            NaN  Hard Rock Stadium             MetLife Stadium  \n",
       "4            NaN      Lambeau Field             Unknown Stadium  "
      ]
     },
     "execution_count": 75,
     "metadata": {},
     "output_type": "execute_result"
    }
   ],
   "source": [
    "game_data.head()\n"
   ]
  },
  {
   "cell_type": "code",
   "execution_count": 76,
   "metadata": {},
   "outputs": [
    {
     "data": {
      "text/html": [
       "<div>\n",
       "<style scoped>\n",
       "    .dataframe tbody tr th:only-of-type {\n",
       "        vertical-align: middle;\n",
       "    }\n",
       "\n",
       "    .dataframe tbody tr th {\n",
       "        vertical-align: top;\n",
       "    }\n",
       "\n",
       "    .dataframe thead th {\n",
       "        text-align: right;\n",
       "    }\n",
       "</style>\n",
       "<table border=\"1\" class=\"dataframe\">\n",
       "  <thead>\n",
       "    <tr style=\"text-align: right;\">\n",
       "      <th></th>\n",
       "      <th>Stadium 1</th>\n",
       "      <th>Stadium 2</th>\n",
       "      <th>Distance (miles)</th>\n",
       "    </tr>\n",
       "  </thead>\n",
       "  <tbody>\n",
       "    <tr>\n",
       "      <th>0</th>\n",
       "      <td>AT&amp;T Stadium</td>\n",
       "      <td>MetLife Stadium</td>\n",
       "      <td>1387.206289</td>\n",
       "    </tr>\n",
       "    <tr>\n",
       "      <th>1</th>\n",
       "      <td>AT&amp;T Stadium</td>\n",
       "      <td>Arrowhead Stadium</td>\n",
       "      <td>458.379758</td>\n",
       "    </tr>\n",
       "    <tr>\n",
       "      <th>2</th>\n",
       "      <td>AT&amp;T Stadium</td>\n",
       "      <td>SoFi Stadium</td>\n",
       "      <td>1229.436052</td>\n",
       "    </tr>\n",
       "    <tr>\n",
       "      <th>3</th>\n",
       "      <td>AT&amp;T Stadium</td>\n",
       "      <td>Lambeau Field</td>\n",
       "      <td>945.215205</td>\n",
       "    </tr>\n",
       "    <tr>\n",
       "      <th>4</th>\n",
       "      <td>AT&amp;T Stadium</td>\n",
       "      <td>Allegiant Stadium</td>\n",
       "      <td>1057.060692</td>\n",
       "    </tr>\n",
       "  </tbody>\n",
       "</table>\n",
       "</div>"
      ],
      "text/plain": [
       "      Stadium 1          Stadium 2  Distance (miles)\n",
       "0  AT&T Stadium    MetLife Stadium       1387.206289\n",
       "1  AT&T Stadium  Arrowhead Stadium        458.379758\n",
       "2  AT&T Stadium       SoFi Stadium       1229.436052\n",
       "3  AT&T Stadium      Lambeau Field        945.215205\n",
       "4  AT&T Stadium  Allegiant Stadium       1057.060692"
      ]
     },
     "execution_count": 76,
     "metadata": {},
     "output_type": "execute_result"
    }
   ],
   "source": [
    "travel_distances.head()"
   ]
  },
  {
   "cell_type": "markdown",
   "metadata": {},
   "source": [
    "Now check the **datatypes** of each dataset to see what we are working with. "
   ]
  },
  {
   "cell_type": "code",
   "execution_count": 77,
   "metadata": {},
   "outputs": [
    {
     "name": "stdout",
     "output_type": "stream",
     "text": [
      "Data types in Game Data:\n",
      "schedule_date           object\n",
      "schedule_season          int64\n",
      "schedule_week           object\n",
      "schedule_playoff          bool\n",
      "team_home               object\n",
      "score_home             float64\n",
      "score_away             float64\n",
      "team_away               object\n",
      "team_favorite_id        object\n",
      "spread_favorite        float64\n",
      "over_under_line         object\n",
      "stadium                 object\n",
      "stadium_neutral           bool\n",
      "weather_temperature    float64\n",
      "weather_wind_mph       float64\n",
      "weather_humidity       float64\n",
      "weather_detail          object\n",
      "home_stadium            object\n",
      "away_stadium            object\n",
      "dtype: object \n",
      "\n"
     ]
    }
   ],
   "source": [
    "print(\"Data types in Game Data:\")\n",
    "print(game_data.dtypes, \"\\n\")"
   ]
  },
  {
   "cell_type": "code",
   "execution_count": 78,
   "metadata": {},
   "outputs": [
    {
     "name": "stdout",
     "output_type": "stream",
     "text": [
      "Data types in Travel Distances:\n",
      "Stadium 1            object\n",
      "Stadium 2            object\n",
      "Distance (miles)    float64\n",
      "dtype: object \n",
      "\n"
     ]
    }
   ],
   "source": [
    "print(\"Data types in Travel Distances:\")\n",
    "print(travel_distances.dtypes, \"\\n\")"
   ]
  },
  {
   "cell_type": "markdown",
   "metadata": {},
   "source": [
    "## Step 2: Data Cleaning and Preprocessing"
   ]
  },
  {
   "cell_type": "markdown",
   "metadata": {},
   "source": [
    "The first step is to check if there is any **missing data**."
   ]
  },
  {
   "cell_type": "code",
   "execution_count": 79,
   "metadata": {},
   "outputs": [
    {
     "name": "stdout",
     "output_type": "stream",
     "text": [
      "Missing values in Game Data:\n",
      "schedule_date              0\n",
      "schedule_season            0\n",
      "schedule_week              0\n",
      "schedule_playoff           0\n",
      "team_home                  0\n",
      "score_home               240\n",
      "score_away               240\n",
      "team_away                  0\n",
      "team_favorite_id        2692\n",
      "spread_favorite         2719\n",
      "over_under_line         2729\n",
      "stadium                    0\n",
      "stadium_neutral            0\n",
      "weather_temperature     1548\n",
      "weather_wind_mph        1564\n",
      "weather_humidity        5597\n",
      "weather_detail         10946\n",
      "home_stadium               0\n",
      "away_stadium               0\n",
      "dtype: int64 \n",
      "\n"
     ]
    }
   ],
   "source": [
    "print(\"Missing values in Game Data:\")\n",
    "print(game_data.isnull().sum(), \"\\n\")"
   ]
  },
  {
   "cell_type": "code",
   "execution_count": 80,
   "metadata": {},
   "outputs": [
    {
     "name": "stdout",
     "output_type": "stream",
     "text": [
      "Missing values in Travel Distances:\n",
      "Stadium 1           0\n",
      "Stadium 2           0\n",
      "Distance (miles)    0\n",
      "dtype: int64 \n",
      "\n"
     ]
    }
   ],
   "source": [
    "print(\"Missing values in Travel Distances:\")\n",
    "print(travel_distances.isnull().sum(), \"\\n\")"
   ]
  },
  {
   "cell_type": "markdown",
   "metadata": {},
   "source": [
    "Obtain all the game data of seasons **2023 and before**. (This is because the dataset includes partial data the 2024 season, which has not finished yet)"
   ]
  },
  {
   "cell_type": "code",
   "execution_count": 81,
   "metadata": {},
   "outputs": [],
   "source": [
    "game_data = game_data[game_data['schedule_season'] <= 2023]"
   ]
  },
  {
   "cell_type": "markdown",
   "metadata": {},
   "source": [
    "Round all the miles to **whole numbers**, so it is easier to work with.  "
   ]
  },
  {
   "cell_type": "code",
   "execution_count": 82,
   "metadata": {},
   "outputs": [],
   "source": [
    "travel_distances['Distance (miles)'] = travel_distances['Distance (miles)'].round(0).astype(int)"
   ]
  },
  {
   "cell_type": "markdown",
   "metadata": {},
   "source": [
    "Drop **unneccesary** columns"
   ]
  },
  {
   "cell_type": "code",
   "execution_count": 83,
   "metadata": {},
   "outputs": [
    {
     "data": {
      "text/html": [
       "<div>\n",
       "<style scoped>\n",
       "    .dataframe tbody tr th:only-of-type {\n",
       "        vertical-align: middle;\n",
       "    }\n",
       "\n",
       "    .dataframe tbody tr th {\n",
       "        vertical-align: top;\n",
       "    }\n",
       "\n",
       "    .dataframe thead th {\n",
       "        text-align: right;\n",
       "    }\n",
       "</style>\n",
       "<table border=\"1\" class=\"dataframe\">\n",
       "  <thead>\n",
       "    <tr style=\"text-align: right;\">\n",
       "      <th></th>\n",
       "      <th>schedule_date</th>\n",
       "      <th>schedule_season</th>\n",
       "      <th>schedule_week</th>\n",
       "      <th>schedule_playoff</th>\n",
       "      <th>team_home</th>\n",
       "      <th>score_home</th>\n",
       "      <th>score_away</th>\n",
       "      <th>team_away</th>\n",
       "      <th>stadium</th>\n",
       "      <th>weather_temperature</th>\n",
       "      <th>weather_wind_mph</th>\n",
       "      <th>weather_humidity</th>\n",
       "      <th>home_stadium</th>\n",
       "      <th>away_stadium</th>\n",
       "    </tr>\n",
       "  </thead>\n",
       "  <tbody>\n",
       "    <tr>\n",
       "      <th>0</th>\n",
       "      <td>9/2/1966</td>\n",
       "      <td>1966</td>\n",
       "      <td>1</td>\n",
       "      <td>False</td>\n",
       "      <td>Miami Dolphins</td>\n",
       "      <td>14.0</td>\n",
       "      <td>23.0</td>\n",
       "      <td>Oakland Raiders</td>\n",
       "      <td>Orange Bowl</td>\n",
       "      <td>83.0</td>\n",
       "      <td>6.0</td>\n",
       "      <td>71.0</td>\n",
       "      <td>Hard Rock Stadium</td>\n",
       "      <td>Oakland Coliseum</td>\n",
       "    </tr>\n",
       "    <tr>\n",
       "      <th>1</th>\n",
       "      <td>9/3/1966</td>\n",
       "      <td>1966</td>\n",
       "      <td>1</td>\n",
       "      <td>False</td>\n",
       "      <td>Houston Oilers</td>\n",
       "      <td>45.0</td>\n",
       "      <td>7.0</td>\n",
       "      <td>Denver Broncos</td>\n",
       "      <td>Rice Stadium</td>\n",
       "      <td>81.0</td>\n",
       "      <td>7.0</td>\n",
       "      <td>70.0</td>\n",
       "      <td>Unknown Stadium</td>\n",
       "      <td>Empower Field at Mile High</td>\n",
       "    </tr>\n",
       "    <tr>\n",
       "      <th>2</th>\n",
       "      <td>9/4/1966</td>\n",
       "      <td>1966</td>\n",
       "      <td>1</td>\n",
       "      <td>False</td>\n",
       "      <td>San Diego Chargers</td>\n",
       "      <td>27.0</td>\n",
       "      <td>7.0</td>\n",
       "      <td>Buffalo Bills</td>\n",
       "      <td>Balboa Stadium</td>\n",
       "      <td>70.0</td>\n",
       "      <td>7.0</td>\n",
       "      <td>82.0</td>\n",
       "      <td>Qualcomm Stadium</td>\n",
       "      <td>Highmark Stadium</td>\n",
       "    </tr>\n",
       "    <tr>\n",
       "      <th>3</th>\n",
       "      <td>9/9/1966</td>\n",
       "      <td>1966</td>\n",
       "      <td>2</td>\n",
       "      <td>False</td>\n",
       "      <td>Miami Dolphins</td>\n",
       "      <td>14.0</td>\n",
       "      <td>19.0</td>\n",
       "      <td>New York Jets</td>\n",
       "      <td>Orange Bowl</td>\n",
       "      <td>82.0</td>\n",
       "      <td>11.0</td>\n",
       "      <td>78.0</td>\n",
       "      <td>Hard Rock Stadium</td>\n",
       "      <td>MetLife Stadium</td>\n",
       "    </tr>\n",
       "    <tr>\n",
       "      <th>4</th>\n",
       "      <td>9/10/1966</td>\n",
       "      <td>1966</td>\n",
       "      <td>1</td>\n",
       "      <td>False</td>\n",
       "      <td>Green Bay Packers</td>\n",
       "      <td>24.0</td>\n",
       "      <td>3.0</td>\n",
       "      <td>Baltimore Colts</td>\n",
       "      <td>Lambeau Field</td>\n",
       "      <td>64.0</td>\n",
       "      <td>8.0</td>\n",
       "      <td>62.0</td>\n",
       "      <td>Lambeau Field</td>\n",
       "      <td>Unknown Stadium</td>\n",
       "    </tr>\n",
       "  </tbody>\n",
       "</table>\n",
       "</div>"
      ],
      "text/plain": [
       "  schedule_date  schedule_season schedule_week  schedule_playoff  \\\n",
       "0      9/2/1966             1966             1             False   \n",
       "1      9/3/1966             1966             1             False   \n",
       "2      9/4/1966             1966             1             False   \n",
       "3      9/9/1966             1966             2             False   \n",
       "4     9/10/1966             1966             1             False   \n",
       "\n",
       "            team_home  score_home  score_away        team_away  \\\n",
       "0      Miami Dolphins        14.0        23.0  Oakland Raiders   \n",
       "1      Houston Oilers        45.0         7.0   Denver Broncos   \n",
       "2  San Diego Chargers        27.0         7.0    Buffalo Bills   \n",
       "3      Miami Dolphins        14.0        19.0    New York Jets   \n",
       "4   Green Bay Packers        24.0         3.0  Baltimore Colts   \n",
       "\n",
       "          stadium  weather_temperature  weather_wind_mph  weather_humidity  \\\n",
       "0     Orange Bowl                 83.0               6.0              71.0   \n",
       "1    Rice Stadium                 81.0               7.0              70.0   \n",
       "2  Balboa Stadium                 70.0               7.0              82.0   \n",
       "3     Orange Bowl                 82.0              11.0              78.0   \n",
       "4   Lambeau Field                 64.0               8.0              62.0   \n",
       "\n",
       "        home_stadium                away_stadium  \n",
       "0  Hard Rock Stadium            Oakland Coliseum  \n",
       "1    Unknown Stadium  Empower Field at Mile High  \n",
       "2   Qualcomm Stadium            Highmark Stadium  \n",
       "3  Hard Rock Stadium             MetLife Stadium  \n",
       "4      Lambeau Field             Unknown Stadium  "
      ]
     },
     "execution_count": 83,
     "metadata": {},
     "output_type": "execute_result"
    }
   ],
   "source": [
    "game_data = game_data.drop(columns=['weather_detail', 'team_favorite_id', 'spread_favorite', 'over_under_line', 'stadium_neutral'])\n",
    "game_data.head()"
   ]
  },
  {
   "cell_type": "markdown",
   "metadata": {},
   "source": [
    "**Rename** the columns, as I will _merge_ the datasets on these columns later. "
   ]
  },
  {
   "cell_type": "code",
   "execution_count": 84,
   "metadata": {},
   "outputs": [],
   "source": [
    "travel_distances = travel_distances.rename(columns={\n",
    "    'Stadium 1': 'home_stadium',\n",
    "    'Stadium 2': 'away_stadium',\n",
    "    'Distance (miles)': 'travel_distance'\n",
    "})"
   ]
  },
  {
   "cell_type": "markdown",
   "metadata": {},
   "source": [
    "Here I used **AI** to obtain a file of all the distances between NFL stadiums that are missing from my original dataset, and also add the data to itself, but in a reverse order so each pair of teams has two occurences, one where **Team A is home** and **Team B is away**, and one where **Team A is away** and **Team B is home**. I then read this file and set it as my _travel_distances_ dataset."
   ]
  },
  {
   "cell_type": "code",
   "execution_count": 85,
   "metadata": {},
   "outputs": [
    {
     "data": {
      "text/html": [
       "<div>\n",
       "<style scoped>\n",
       "    .dataframe tbody tr th:only-of-type {\n",
       "        vertical-align: middle;\n",
       "    }\n",
       "\n",
       "    .dataframe tbody tr th {\n",
       "        vertical-align: top;\n",
       "    }\n",
       "\n",
       "    .dataframe thead th {\n",
       "        text-align: right;\n",
       "    }\n",
       "</style>\n",
       "<table border=\"1\" class=\"dataframe\">\n",
       "  <thead>\n",
       "    <tr style=\"text-align: right;\">\n",
       "      <th></th>\n",
       "      <th>Unnamed: 0</th>\n",
       "      <th>home_stadium</th>\n",
       "      <th>away_stadium</th>\n",
       "      <th>distance</th>\n",
       "    </tr>\n",
       "  </thead>\n",
       "  <tbody>\n",
       "    <tr>\n",
       "      <th>0</th>\n",
       "      <td>0</td>\n",
       "      <td>allegiant stadium</td>\n",
       "      <td>arrowhead stadium</td>\n",
       "      <td>1152</td>\n",
       "    </tr>\n",
       "    <tr>\n",
       "      <th>1</th>\n",
       "      <td>1</td>\n",
       "      <td>allegiant stadium</td>\n",
       "      <td>at&amp;t stadium</td>\n",
       "      <td>1057</td>\n",
       "    </tr>\n",
       "    <tr>\n",
       "      <th>2</th>\n",
       "      <td>2</td>\n",
       "      <td>allegiant stadium</td>\n",
       "      <td>bank of america stadium</td>\n",
       "      <td>1958</td>\n",
       "    </tr>\n",
       "    <tr>\n",
       "      <th>3</th>\n",
       "      <td>3</td>\n",
       "      <td>allegiant stadium</td>\n",
       "      <td>caesars superdome</td>\n",
       "      <td>1492</td>\n",
       "    </tr>\n",
       "    <tr>\n",
       "      <th>4</th>\n",
       "      <td>4</td>\n",
       "      <td>allegiant stadium</td>\n",
       "      <td>empower field at mile high</td>\n",
       "      <td>626</td>\n",
       "    </tr>\n",
       "  </tbody>\n",
       "</table>\n",
       "</div>"
      ],
      "text/plain": [
       "   Unnamed: 0       home_stadium                away_stadium  distance\n",
       "0           0  allegiant stadium           arrowhead stadium      1152\n",
       "1           1  allegiant stadium                at&t stadium      1057\n",
       "2           2  allegiant stadium     bank of america stadium      1958\n",
       "3           3  allegiant stadium           caesars superdome      1492\n",
       "4           4  allegiant stadium  empower field at mile high       626"
      ]
     },
     "execution_count": 85,
     "metadata": {},
     "output_type": "execute_result"
    }
   ],
   "source": [
    "travel_distances = pd.read_csv('../stadium_distances.csv')\n",
    "\n",
    "travel_distances.head()"
   ]
  },
  {
   "cell_type": "markdown",
   "metadata": {},
   "source": [
    "I noticed the AI created an **uneeded index column**, so I **drop** it."
   ]
  },
  {
   "cell_type": "code",
   "execution_count": 86,
   "metadata": {},
   "outputs": [
    {
     "data": {
      "text/html": [
       "<div>\n",
       "<style scoped>\n",
       "    .dataframe tbody tr th:only-of-type {\n",
       "        vertical-align: middle;\n",
       "    }\n",
       "\n",
       "    .dataframe tbody tr th {\n",
       "        vertical-align: top;\n",
       "    }\n",
       "\n",
       "    .dataframe thead th {\n",
       "        text-align: right;\n",
       "    }\n",
       "</style>\n",
       "<table border=\"1\" class=\"dataframe\">\n",
       "  <thead>\n",
       "    <tr style=\"text-align: right;\">\n",
       "      <th></th>\n",
       "      <th>home_stadium</th>\n",
       "      <th>away_stadium</th>\n",
       "      <th>distance</th>\n",
       "    </tr>\n",
       "  </thead>\n",
       "  <tbody>\n",
       "    <tr>\n",
       "      <th>0</th>\n",
       "      <td>allegiant stadium</td>\n",
       "      <td>arrowhead stadium</td>\n",
       "      <td>1152</td>\n",
       "    </tr>\n",
       "    <tr>\n",
       "      <th>1</th>\n",
       "      <td>allegiant stadium</td>\n",
       "      <td>at&amp;t stadium</td>\n",
       "      <td>1057</td>\n",
       "    </tr>\n",
       "    <tr>\n",
       "      <th>2</th>\n",
       "      <td>allegiant stadium</td>\n",
       "      <td>bank of america stadium</td>\n",
       "      <td>1958</td>\n",
       "    </tr>\n",
       "    <tr>\n",
       "      <th>3</th>\n",
       "      <td>allegiant stadium</td>\n",
       "      <td>caesars superdome</td>\n",
       "      <td>1492</td>\n",
       "    </tr>\n",
       "    <tr>\n",
       "      <th>4</th>\n",
       "      <td>allegiant stadium</td>\n",
       "      <td>empower field at mile high</td>\n",
       "      <td>626</td>\n",
       "    </tr>\n",
       "  </tbody>\n",
       "</table>\n",
       "</div>"
      ],
      "text/plain": [
       "        home_stadium                away_stadium  distance\n",
       "0  allegiant stadium           arrowhead stadium      1152\n",
       "1  allegiant stadium                at&t stadium      1057\n",
       "2  allegiant stadium     bank of america stadium      1958\n",
       "3  allegiant stadium           caesars superdome      1492\n",
       "4  allegiant stadium  empower field at mile high       626"
      ]
     },
     "execution_count": 86,
     "metadata": {},
     "output_type": "execute_result"
    }
   ],
   "source": [
    "travel_distances = travel_distances.drop(travel_distances.columns[0], axis=1)\n",
    "travel_distances.head()\n"
   ]
  },
  {
   "cell_type": "markdown",
   "metadata": {},
   "source": [
    "**Clean** the strings to make sure they are all in a **consistent format**."
   ]
  },
  {
   "cell_type": "code",
   "execution_count": 87,
   "metadata": {},
   "outputs": [
    {
     "data": {
      "text/html": [
       "<div>\n",
       "<style scoped>\n",
       "    .dataframe tbody tr th:only-of-type {\n",
       "        vertical-align: middle;\n",
       "    }\n",
       "\n",
       "    .dataframe tbody tr th {\n",
       "        vertical-align: top;\n",
       "    }\n",
       "\n",
       "    .dataframe thead th {\n",
       "        text-align: right;\n",
       "    }\n",
       "</style>\n",
       "<table border=\"1\" class=\"dataframe\">\n",
       "  <thead>\n",
       "    <tr style=\"text-align: right;\">\n",
       "      <th></th>\n",
       "      <th>home_stadium</th>\n",
       "      <th>away_stadium</th>\n",
       "      <th>distance</th>\n",
       "    </tr>\n",
       "  </thead>\n",
       "  <tbody>\n",
       "    <tr>\n",
       "      <th>0</th>\n",
       "      <td>allegiant stadium</td>\n",
       "      <td>arrowhead stadium</td>\n",
       "      <td>1152</td>\n",
       "    </tr>\n",
       "    <tr>\n",
       "      <th>1</th>\n",
       "      <td>allegiant stadium</td>\n",
       "      <td>at&amp;t stadium</td>\n",
       "      <td>1057</td>\n",
       "    </tr>\n",
       "    <tr>\n",
       "      <th>2</th>\n",
       "      <td>allegiant stadium</td>\n",
       "      <td>bank of america stadium</td>\n",
       "      <td>1958</td>\n",
       "    </tr>\n",
       "    <tr>\n",
       "      <th>3</th>\n",
       "      <td>allegiant stadium</td>\n",
       "      <td>caesars superdome</td>\n",
       "      <td>1492</td>\n",
       "    </tr>\n",
       "    <tr>\n",
       "      <th>4</th>\n",
       "      <td>allegiant stadium</td>\n",
       "      <td>empower field at mile high</td>\n",
       "      <td>626</td>\n",
       "    </tr>\n",
       "  </tbody>\n",
       "</table>\n",
       "</div>"
      ],
      "text/plain": [
       "        home_stadium                away_stadium  distance\n",
       "0  allegiant stadium           arrowhead stadium      1152\n",
       "1  allegiant stadium                at&t stadium      1057\n",
       "2  allegiant stadium     bank of america stadium      1958\n",
       "3  allegiant stadium           caesars superdome      1492\n",
       "4  allegiant stadium  empower field at mile high       626"
      ]
     },
     "execution_count": 87,
     "metadata": {},
     "output_type": "execute_result"
    }
   ],
   "source": [
    "game_data['home_stadium'] = game_data['home_stadium'].str.strip().str.lower()\n",
    "game_data['away_stadium'] = game_data['away_stadium'].str.strip().str.lower()\n",
    "\n",
    "travel_distances['home_stadium'] = travel_distances['home_stadium'].str.strip().str.lower()\n",
    "travel_distances['away_stadium'] = travel_distances['away_stadium'].str.strip().str.lower()\n",
    "\n",
    "travel_distances.head()"
   ]
  },
  {
   "cell_type": "markdown",
   "metadata": {},
   "source": [
    "Let's preview our _game_data_ dataset, just to see what we are working with."
   ]
  },
  {
   "cell_type": "code",
   "execution_count": 88,
   "metadata": {},
   "outputs": [
    {
     "data": {
      "text/html": [
       "<div>\n",
       "<style scoped>\n",
       "    .dataframe tbody tr th:only-of-type {\n",
       "        vertical-align: middle;\n",
       "    }\n",
       "\n",
       "    .dataframe tbody tr th {\n",
       "        vertical-align: top;\n",
       "    }\n",
       "\n",
       "    .dataframe thead th {\n",
       "        text-align: right;\n",
       "    }\n",
       "</style>\n",
       "<table border=\"1\" class=\"dataframe\">\n",
       "  <thead>\n",
       "    <tr style=\"text-align: right;\">\n",
       "      <th></th>\n",
       "      <th>home_stadium</th>\n",
       "      <th>away_stadium</th>\n",
       "    </tr>\n",
       "  </thead>\n",
       "  <tbody>\n",
       "    <tr>\n",
       "      <th>0</th>\n",
       "      <td>hard rock stadium</td>\n",
       "      <td>oakland coliseum</td>\n",
       "    </tr>\n",
       "    <tr>\n",
       "      <th>1</th>\n",
       "      <td>unknown stadium</td>\n",
       "      <td>empower field at mile high</td>\n",
       "    </tr>\n",
       "    <tr>\n",
       "      <th>2</th>\n",
       "      <td>qualcomm stadium</td>\n",
       "      <td>highmark stadium</td>\n",
       "    </tr>\n",
       "    <tr>\n",
       "      <th>3</th>\n",
       "      <td>hard rock stadium</td>\n",
       "      <td>metlife stadium</td>\n",
       "    </tr>\n",
       "    <tr>\n",
       "      <th>4</th>\n",
       "      <td>lambeau field</td>\n",
       "      <td>unknown stadium</td>\n",
       "    </tr>\n",
       "  </tbody>\n",
       "</table>\n",
       "</div>"
      ],
      "text/plain": [
       "        home_stadium                away_stadium\n",
       "0  hard rock stadium            oakland coliseum\n",
       "1    unknown stadium  empower field at mile high\n",
       "2   qualcomm stadium            highmark stadium\n",
       "3  hard rock stadium             metlife stadium\n",
       "4      lambeau field             unknown stadium"
      ]
     },
     "execution_count": 88,
     "metadata": {},
     "output_type": "execute_result"
    }
   ],
   "source": [
    "game_data[['home_stadium', 'away_stadium']].head()"
   ]
  },
  {
   "cell_type": "markdown",
   "metadata": {},
   "source": [
    "I notice that in the **home_stadium** and **away_stadium columns**, some of the values are _\"unknown stadium\"_. This seems to be due to the fact that some NFL teams have changed their names over the years, so the mapping of a stadium to it's team caused an error. \n",
    ">\n",
    "To fix this, I will first I create a dictionary that **pairs the old names to the new names**. Then I use the **replace()** function to replace the teams in the dataset.\n",
    "Next, I will replace all of the _\"unknown stadium\"_ values with the teams corresponding stadium, as defined in the **team_to_stadium** dictionary. "
   ]
  },
  {
   "cell_type": "code",
   "execution_count": 89,
   "metadata": {},
   "outputs": [],
   "source": [
    "team_name_updates = {\n",
    "    'San Diego Chargers': 'Los Angeles Chargers',\n",
    "    'Oakland Raiders': 'Las Vegas Raiders',\n",
    "    'Los Angeles Raiders': 'Las Vegas Raiders',\n",
    "    'Washington Redskins': 'Washington Commanders',\n",
    "    'Washington Football Team': 'Washington Commanders',\n",
    "    'St. Louis Rams': 'Los Angeles Rams',\n",
    "    'St. Louis Cardinals': 'Arizona Cardinals',\n",
    "    'Houston Oilers': 'Tennessee Titans',\n",
    "    'Tennessee Oilers': 'Tennessee Titans',\n",
    "    'Baltimore Colts': 'Indianapolis Colts',\n",
    "    'Boston Patriots': 'New England Patriots',\n",
    "    'Phoenix Cardinals': 'Arizona Cardinals'\n",
    "}\n",
    "\n",
    "game_data['team_home'] = game_data['team_home'].replace(team_name_updates)\n",
    "game_data['team_away'] = game_data['team_away'].replace(team_name_updates)"
   ]
  },
  {
   "cell_type": "code",
   "execution_count": 90,
   "metadata": {},
   "outputs": [],
   "source": [
    "team_to_stadium = {\n",
    "    'Arizona Cardinals': 'state farm stadium',\n",
    "    'Atlanta Falcons': 'mercedes-benz stadium',\n",
    "    'Baltimore Ravens': 'm&t bank stadium',\n",
    "    'Buffalo Bills': 'highmark stadium',\n",
    "    'Carolina Panthers': 'bank of america stadium',\n",
    "    'Chicago Bears': 'soldier field',\n",
    "    'Cincinnati Bengals': 'paycor stadium',\n",
    "    'Cleveland Browns': 'firstenergy stadium',\n",
    "    'Dallas Cowboys': 'at&t stadium',\n",
    "    'Denver Broncos': 'empower field at mile high',\n",
    "    'Detroit Lions': 'ford field',\n",
    "    'Green Bay Packers': 'lambeau field',\n",
    "    'Houston Texans': 'nrg stadium',\n",
    "    'Indianapolis Colts': 'lucas oil stadium',\n",
    "    'Jacksonville Jaguars': 'tiaa bank field',\n",
    "    'Kansas City Chiefs': 'arrowhead stadium',\n",
    "    'Las Vegas Raiders': 'allegiant stadium',\n",
    "    'Los Angeles Chargers': 'sofi stadium',\n",
    "    'Los Angeles Rams': 'sofi stadium',\n",
    "    'Miami Dolphins': 'hard rock stadium',\n",
    "    'Minnesota Vikings': 'u.s. bank stadium',\n",
    "    'New England Patriots': 'gillette stadium',\n",
    "    'New Orleans Saints': 'caesars superdome',\n",
    "    'New York Giants': 'metlife stadium',\n",
    "    'New York Jets': 'metlife stadium',\n",
    "    'Philadelphia Eagles': 'lincoln financial field',\n",
    "    'Pittsburgh Steelers': 'acrisure stadium',\n",
    "    'San Francisco 49ers': \"levi's stadium\",\n",
    "    'Seattle Seahawks': 'lumen field',\n",
    "    'Tampa Bay Buccaneers': 'raymond james stadium',\n",
    "    'Tennessee Titans': 'nissan stadium',\n",
    "    'Washington Commanders': 'fedexfield'\n",
    "}\n",
    "\n",
    "game_data['home_stadium'] = game_data.apply(\n",
    "    lambda row: team_to_stadium.get(row['team_home'], row['home_stadium']) if row['home_stadium'] == 'unknown stadium' else row['home_stadium'],\n",
    "    axis=1\n",
    ")\n",
    "\n",
    "game_data['away_stadium'] = game_data.apply(\n",
    "    lambda row: team_to_stadium.get(row['team_away'], row['away_stadium']) if row['away_stadium'] == 'unknown stadium' else row['away_stadium'],\n",
    "    axis=1\n",
    ")\n"
   ]
  },
  {
   "cell_type": "markdown",
   "metadata": {},
   "source": [
    "Now let's see if we fixed the problem. "
   ]
  },
  {
   "cell_type": "code",
   "execution_count": 91,
   "metadata": {},
   "outputs": [
    {
     "data": {
      "text/html": [
       "<div>\n",
       "<style scoped>\n",
       "    .dataframe tbody tr th:only-of-type {\n",
       "        vertical-align: middle;\n",
       "    }\n",
       "\n",
       "    .dataframe tbody tr th {\n",
       "        vertical-align: top;\n",
       "    }\n",
       "\n",
       "    .dataframe thead th {\n",
       "        text-align: right;\n",
       "    }\n",
       "</style>\n",
       "<table border=\"1\" class=\"dataframe\">\n",
       "  <thead>\n",
       "    <tr style=\"text-align: right;\">\n",
       "      <th></th>\n",
       "      <th>schedule_date</th>\n",
       "      <th>schedule_season</th>\n",
       "      <th>schedule_week</th>\n",
       "      <th>schedule_playoff</th>\n",
       "      <th>team_home</th>\n",
       "      <th>score_home</th>\n",
       "      <th>score_away</th>\n",
       "      <th>team_away</th>\n",
       "      <th>stadium</th>\n",
       "      <th>weather_temperature</th>\n",
       "      <th>weather_wind_mph</th>\n",
       "      <th>weather_humidity</th>\n",
       "      <th>home_stadium</th>\n",
       "      <th>away_stadium</th>\n",
       "    </tr>\n",
       "  </thead>\n",
       "  <tbody>\n",
       "  </tbody>\n",
       "</table>\n",
       "</div>"
      ],
      "text/plain": [
       "Empty DataFrame\n",
       "Columns: [schedule_date, schedule_season, schedule_week, schedule_playoff, team_home, score_home, score_away, team_away, stadium, weather_temperature, weather_wind_mph, weather_humidity, home_stadium, away_stadium]\n",
       "Index: []"
      ]
     },
     "execution_count": 91,
     "metadata": {},
     "output_type": "execute_result"
    }
   ],
   "source": [
    "unknown_stadiums = game_data[(game_data['home_stadium'] == 'unknown stadium') | (game_data['away_stadium'] == 'unknown stadium')]\n",
    "\n",
    "unknown_stadiums"
   ]
  },
  {
   "cell_type": "markdown",
   "metadata": {},
   "source": [
    "Drop the **weather humidity** column and **schedule_week** column, as I won't be using these."
   ]
  },
  {
   "cell_type": "code",
   "execution_count": 92,
   "metadata": {},
   "outputs": [
    {
     "data": {
      "text/html": [
       "<div>\n",
       "<style scoped>\n",
       "    .dataframe tbody tr th:only-of-type {\n",
       "        vertical-align: middle;\n",
       "    }\n",
       "\n",
       "    .dataframe tbody tr th {\n",
       "        vertical-align: top;\n",
       "    }\n",
       "\n",
       "    .dataframe thead th {\n",
       "        text-align: right;\n",
       "    }\n",
       "</style>\n",
       "<table border=\"1\" class=\"dataframe\">\n",
       "  <thead>\n",
       "    <tr style=\"text-align: right;\">\n",
       "      <th></th>\n",
       "      <th>schedule_date</th>\n",
       "      <th>schedule_season</th>\n",
       "      <th>schedule_playoff</th>\n",
       "      <th>team_home</th>\n",
       "      <th>score_home</th>\n",
       "      <th>score_away</th>\n",
       "      <th>team_away</th>\n",
       "      <th>stadium</th>\n",
       "      <th>weather_temperature</th>\n",
       "      <th>weather_wind_mph</th>\n",
       "      <th>home_stadium</th>\n",
       "      <th>away_stadium</th>\n",
       "    </tr>\n",
       "  </thead>\n",
       "  <tbody>\n",
       "    <tr>\n",
       "      <th>0</th>\n",
       "      <td>9/2/1966</td>\n",
       "      <td>1966</td>\n",
       "      <td>False</td>\n",
       "      <td>Miami Dolphins</td>\n",
       "      <td>14.0</td>\n",
       "      <td>23.0</td>\n",
       "      <td>Las Vegas Raiders</td>\n",
       "      <td>Orange Bowl</td>\n",
       "      <td>83.0</td>\n",
       "      <td>6.0</td>\n",
       "      <td>hard rock stadium</td>\n",
       "      <td>oakland coliseum</td>\n",
       "    </tr>\n",
       "    <tr>\n",
       "      <th>1</th>\n",
       "      <td>9/3/1966</td>\n",
       "      <td>1966</td>\n",
       "      <td>False</td>\n",
       "      <td>Tennessee Titans</td>\n",
       "      <td>45.0</td>\n",
       "      <td>7.0</td>\n",
       "      <td>Denver Broncos</td>\n",
       "      <td>Rice Stadium</td>\n",
       "      <td>81.0</td>\n",
       "      <td>7.0</td>\n",
       "      <td>nissan stadium</td>\n",
       "      <td>empower field at mile high</td>\n",
       "    </tr>\n",
       "    <tr>\n",
       "      <th>2</th>\n",
       "      <td>9/4/1966</td>\n",
       "      <td>1966</td>\n",
       "      <td>False</td>\n",
       "      <td>Los Angeles Chargers</td>\n",
       "      <td>27.0</td>\n",
       "      <td>7.0</td>\n",
       "      <td>Buffalo Bills</td>\n",
       "      <td>Balboa Stadium</td>\n",
       "      <td>70.0</td>\n",
       "      <td>7.0</td>\n",
       "      <td>qualcomm stadium</td>\n",
       "      <td>highmark stadium</td>\n",
       "    </tr>\n",
       "    <tr>\n",
       "      <th>3</th>\n",
       "      <td>9/9/1966</td>\n",
       "      <td>1966</td>\n",
       "      <td>False</td>\n",
       "      <td>Miami Dolphins</td>\n",
       "      <td>14.0</td>\n",
       "      <td>19.0</td>\n",
       "      <td>New York Jets</td>\n",
       "      <td>Orange Bowl</td>\n",
       "      <td>82.0</td>\n",
       "      <td>11.0</td>\n",
       "      <td>hard rock stadium</td>\n",
       "      <td>metlife stadium</td>\n",
       "    </tr>\n",
       "    <tr>\n",
       "      <th>4</th>\n",
       "      <td>9/10/1966</td>\n",
       "      <td>1966</td>\n",
       "      <td>False</td>\n",
       "      <td>Green Bay Packers</td>\n",
       "      <td>24.0</td>\n",
       "      <td>3.0</td>\n",
       "      <td>Indianapolis Colts</td>\n",
       "      <td>Lambeau Field</td>\n",
       "      <td>64.0</td>\n",
       "      <td>8.0</td>\n",
       "      <td>lambeau field</td>\n",
       "      <td>lucas oil stadium</td>\n",
       "    </tr>\n",
       "  </tbody>\n",
       "</table>\n",
       "</div>"
      ],
      "text/plain": [
       "  schedule_date  schedule_season  schedule_playoff             team_home  \\\n",
       "0      9/2/1966             1966             False        Miami Dolphins   \n",
       "1      9/3/1966             1966             False      Tennessee Titans   \n",
       "2      9/4/1966             1966             False  Los Angeles Chargers   \n",
       "3      9/9/1966             1966             False        Miami Dolphins   \n",
       "4     9/10/1966             1966             False     Green Bay Packers   \n",
       "\n",
       "   score_home  score_away           team_away         stadium  \\\n",
       "0        14.0        23.0   Las Vegas Raiders     Orange Bowl   \n",
       "1        45.0         7.0      Denver Broncos    Rice Stadium   \n",
       "2        27.0         7.0       Buffalo Bills  Balboa Stadium   \n",
       "3        14.0        19.0       New York Jets     Orange Bowl   \n",
       "4        24.0         3.0  Indianapolis Colts   Lambeau Field   \n",
       "\n",
       "   weather_temperature  weather_wind_mph       home_stadium  \\\n",
       "0                 83.0               6.0  hard rock stadium   \n",
       "1                 81.0               7.0     nissan stadium   \n",
       "2                 70.0               7.0   qualcomm stadium   \n",
       "3                 82.0              11.0  hard rock stadium   \n",
       "4                 64.0               8.0      lambeau field   \n",
       "\n",
       "                 away_stadium  \n",
       "0            oakland coliseum  \n",
       "1  empower field at mile high  \n",
       "2            highmark stadium  \n",
       "3             metlife stadium  \n",
       "4           lucas oil stadium  "
      ]
     },
     "execution_count": 92,
     "metadata": {},
     "output_type": "execute_result"
    }
   ],
   "source": [
    "game_data = game_data.drop(columns=['weather_humidity', 'schedule_week'])\n",
    "game_data.head()\n"
   ]
  },
  {
   "cell_type": "markdown",
   "metadata": {},
   "source": [
    "Now that everything is fixed, we can move on."
   ]
  },
  {
   "cell_type": "markdown",
   "metadata": {},
   "source": [
    "## Step 3: Merging and Preparing the Datasets"
   ]
  },
  {
   "cell_type": "markdown",
   "metadata": {},
   "source": [
    "**Merge** the datasets on the **home** and **away** **stadiums**."
   ]
  },
  {
   "cell_type": "code",
   "execution_count": 93,
   "metadata": {},
   "outputs": [],
   "source": [
    "merged_game_data = pd.merge(game_data, travel_distances, how='left', left_on=['home_stadium', 'away_stadium'], right_on=['home_stadium', 'away_stadium'])"
   ]
  },
  {
   "cell_type": "markdown",
   "metadata": {},
   "source": [
    "Now I want to see if the **merge** has worked, and if there are any rows in which the _distance_ is **NaN**"
   ]
  },
  {
   "cell_type": "code",
   "execution_count": 94,
   "metadata": {},
   "outputs": [
    {
     "data": {
      "text/html": [
       "<div>\n",
       "<style scoped>\n",
       "    .dataframe tbody tr th:only-of-type {\n",
       "        vertical-align: middle;\n",
       "    }\n",
       "\n",
       "    .dataframe tbody tr th {\n",
       "        vertical-align: top;\n",
       "    }\n",
       "\n",
       "    .dataframe thead th {\n",
       "        text-align: right;\n",
       "    }\n",
       "</style>\n",
       "<table border=\"1\" class=\"dataframe\">\n",
       "  <thead>\n",
       "    <tr style=\"text-align: right;\">\n",
       "      <th></th>\n",
       "      <th>schedule_date</th>\n",
       "      <th>schedule_season</th>\n",
       "      <th>schedule_playoff</th>\n",
       "      <th>team_home</th>\n",
       "      <th>score_home</th>\n",
       "      <th>score_away</th>\n",
       "      <th>team_away</th>\n",
       "      <th>stadium</th>\n",
       "      <th>weather_temperature</th>\n",
       "      <th>weather_wind_mph</th>\n",
       "      <th>home_stadium</th>\n",
       "      <th>away_stadium</th>\n",
       "      <th>distance</th>\n",
       "    </tr>\n",
       "  </thead>\n",
       "  <tbody>\n",
       "    <tr>\n",
       "      <th>44</th>\n",
       "      <td>10/2/1966</td>\n",
       "      <td>1966</td>\n",
       "      <td>False</td>\n",
       "      <td>Kansas City Chiefs</td>\n",
       "      <td>14.0</td>\n",
       "      <td>29.0</td>\n",
       "      <td>Buffalo Bills</td>\n",
       "      <td>Kansas City Municipal Stadium</td>\n",
       "      <td>NaN</td>\n",
       "      <td>NaN</td>\n",
       "      <td>arrowhead stadium</td>\n",
       "      <td>highmark stadium</td>\n",
       "      <td>892</td>\n",
       "    </tr>\n",
       "    <tr>\n",
       "      <th>50</th>\n",
       "      <td>10/8/1966</td>\n",
       "      <td>1966</td>\n",
       "      <td>False</td>\n",
       "      <td>Buffalo Bills</td>\n",
       "      <td>10.0</td>\n",
       "      <td>20.0</td>\n",
       "      <td>New England Patriots</td>\n",
       "      <td>War Memorial Stadium</td>\n",
       "      <td>NaN</td>\n",
       "      <td>NaN</td>\n",
       "      <td>highmark stadium</td>\n",
       "      <td>gillette stadium</td>\n",
       "      <td>436</td>\n",
       "    </tr>\n",
       "    <tr>\n",
       "      <th>52</th>\n",
       "      <td>10/8/1966</td>\n",
       "      <td>1966</td>\n",
       "      <td>False</td>\n",
       "      <td>Kansas City Chiefs</td>\n",
       "      <td>37.0</td>\n",
       "      <td>10.0</td>\n",
       "      <td>Denver Broncos</td>\n",
       "      <td>Kansas City Municipal Stadium</td>\n",
       "      <td>NaN</td>\n",
       "      <td>NaN</td>\n",
       "      <td>arrowhead stadium</td>\n",
       "      <td>empower field at mile high</td>\n",
       "      <td>529</td>\n",
       "    </tr>\n",
       "    <tr>\n",
       "      <th>53</th>\n",
       "      <td>10/8/1966</td>\n",
       "      <td>1966</td>\n",
       "      <td>False</td>\n",
       "      <td>New York Jets</td>\n",
       "      <td>17.0</td>\n",
       "      <td>16.0</td>\n",
       "      <td>Los Angeles Chargers</td>\n",
       "      <td>Shea Stadium</td>\n",
       "      <td>NaN</td>\n",
       "      <td>NaN</td>\n",
       "      <td>metlife stadium</td>\n",
       "      <td>qualcomm stadium</td>\n",
       "      <td>2439</td>\n",
       "    </tr>\n",
       "    <tr>\n",
       "      <th>57</th>\n",
       "      <td>10/9/1966</td>\n",
       "      <td>1966</td>\n",
       "      <td>False</td>\n",
       "      <td>Las Vegas Raiders</td>\n",
       "      <td>21.0</td>\n",
       "      <td>10.0</td>\n",
       "      <td>Miami Dolphins</td>\n",
       "      <td>Oakland Coliseum</td>\n",
       "      <td>NaN</td>\n",
       "      <td>NaN</td>\n",
       "      <td>oakland coliseum</td>\n",
       "      <td>hard rock stadium</td>\n",
       "      <td>2584</td>\n",
       "    </tr>\n",
       "    <tr>\n",
       "      <th>...</th>\n",
       "      <td>...</td>\n",
       "      <td>...</td>\n",
       "      <td>...</td>\n",
       "      <td>...</td>\n",
       "      <td>...</td>\n",
       "      <td>...</td>\n",
       "      <td>...</td>\n",
       "      <td>...</td>\n",
       "      <td>...</td>\n",
       "      <td>...</td>\n",
       "      <td>...</td>\n",
       "      <td>...</td>\n",
       "      <td>...</td>\n",
       "    </tr>\n",
       "    <tr>\n",
       "      <th>14196</th>\n",
       "      <td>1/7/2024</td>\n",
       "      <td>2023</td>\n",
       "      <td>False</td>\n",
       "      <td>New England Patriots</td>\n",
       "      <td>3.0</td>\n",
       "      <td>17.0</td>\n",
       "      <td>New York Jets</td>\n",
       "      <td>Gillette Stadium</td>\n",
       "      <td>NaN</td>\n",
       "      <td>NaN</td>\n",
       "      <td>gillette stadium</td>\n",
       "      <td>metlife stadium</td>\n",
       "      <td>170</td>\n",
       "    </tr>\n",
       "    <tr>\n",
       "      <th>14198</th>\n",
       "      <td>1/7/2024</td>\n",
       "      <td>2023</td>\n",
       "      <td>False</td>\n",
       "      <td>New York Giants</td>\n",
       "      <td>27.0</td>\n",
       "      <td>10.0</td>\n",
       "      <td>Philadelphia Eagles</td>\n",
       "      <td>MetLife Stadium</td>\n",
       "      <td>NaN</td>\n",
       "      <td>NaN</td>\n",
       "      <td>metlife stadium</td>\n",
       "      <td>lincoln financial field</td>\n",
       "      <td>85</td>\n",
       "    </tr>\n",
       "    <tr>\n",
       "      <th>14199</th>\n",
       "      <td>1/7/2024</td>\n",
       "      <td>2023</td>\n",
       "      <td>False</td>\n",
       "      <td>San Francisco 49ers</td>\n",
       "      <td>20.0</td>\n",
       "      <td>21.0</td>\n",
       "      <td>Los Angeles Rams</td>\n",
       "      <td>Levi's Stadium</td>\n",
       "      <td>NaN</td>\n",
       "      <td>NaN</td>\n",
       "      <td>levi's stadium</td>\n",
       "      <td>sofi stadium</td>\n",
       "      <td>339</td>\n",
       "    </tr>\n",
       "    <tr>\n",
       "      <th>14200</th>\n",
       "      <td>1/7/2024</td>\n",
       "      <td>2023</td>\n",
       "      <td>False</td>\n",
       "      <td>Tennessee Titans</td>\n",
       "      <td>28.0</td>\n",
       "      <td>20.0</td>\n",
       "      <td>Jacksonville Jaguars</td>\n",
       "      <td>Nissan Stadium</td>\n",
       "      <td>NaN</td>\n",
       "      <td>NaN</td>\n",
       "      <td>nissan stadium</td>\n",
       "      <td>tiaa bank field</td>\n",
       "      <td>517</td>\n",
       "    </tr>\n",
       "    <tr>\n",
       "      <th>14201</th>\n",
       "      <td>1/7/2024</td>\n",
       "      <td>2023</td>\n",
       "      <td>False</td>\n",
       "      <td>Washington Commanders</td>\n",
       "      <td>10.0</td>\n",
       "      <td>38.0</td>\n",
       "      <td>Dallas Cowboys</td>\n",
       "      <td>FedEx Field</td>\n",
       "      <td>NaN</td>\n",
       "      <td>NaN</td>\n",
       "      <td>fedexfield</td>\n",
       "      <td>at&amp;t stadium</td>\n",
       "      <td>1209</td>\n",
       "    </tr>\n",
       "  </tbody>\n",
       "</table>\n",
       "<p>1450 rows × 13 columns</p>\n",
       "</div>"
      ],
      "text/plain": [
       "      schedule_date  schedule_season  schedule_playoff              team_home  \\\n",
       "44        10/2/1966             1966             False     Kansas City Chiefs   \n",
       "50        10/8/1966             1966             False          Buffalo Bills   \n",
       "52        10/8/1966             1966             False     Kansas City Chiefs   \n",
       "53        10/8/1966             1966             False          New York Jets   \n",
       "57        10/9/1966             1966             False      Las Vegas Raiders   \n",
       "...             ...              ...               ...                    ...   \n",
       "14196      1/7/2024             2023             False   New England Patriots   \n",
       "14198      1/7/2024             2023             False        New York Giants   \n",
       "14199      1/7/2024             2023             False    San Francisco 49ers   \n",
       "14200      1/7/2024             2023             False       Tennessee Titans   \n",
       "14201      1/7/2024             2023             False  Washington Commanders   \n",
       "\n",
       "       score_home  score_away             team_away  \\\n",
       "44           14.0        29.0         Buffalo Bills   \n",
       "50           10.0        20.0  New England Patriots   \n",
       "52           37.0        10.0        Denver Broncos   \n",
       "53           17.0        16.0  Los Angeles Chargers   \n",
       "57           21.0        10.0        Miami Dolphins   \n",
       "...           ...         ...                   ...   \n",
       "14196         3.0        17.0         New York Jets   \n",
       "14198        27.0        10.0   Philadelphia Eagles   \n",
       "14199        20.0        21.0      Los Angeles Rams   \n",
       "14200        28.0        20.0  Jacksonville Jaguars   \n",
       "14201        10.0        38.0        Dallas Cowboys   \n",
       "\n",
       "                             stadium  weather_temperature  weather_wind_mph  \\\n",
       "44     Kansas City Municipal Stadium                  NaN               NaN   \n",
       "50              War Memorial Stadium                  NaN               NaN   \n",
       "52     Kansas City Municipal Stadium                  NaN               NaN   \n",
       "53                      Shea Stadium                  NaN               NaN   \n",
       "57                  Oakland Coliseum                  NaN               NaN   \n",
       "...                              ...                  ...               ...   \n",
       "14196               Gillette Stadium                  NaN               NaN   \n",
       "14198                MetLife Stadium                  NaN               NaN   \n",
       "14199                 Levi's Stadium                  NaN               NaN   \n",
       "14200                 Nissan Stadium                  NaN               NaN   \n",
       "14201                    FedEx Field                  NaN               NaN   \n",
       "\n",
       "            home_stadium                away_stadium  distance  \n",
       "44     arrowhead stadium            highmark stadium       892  \n",
       "50      highmark stadium            gillette stadium       436  \n",
       "52     arrowhead stadium  empower field at mile high       529  \n",
       "53       metlife stadium            qualcomm stadium      2439  \n",
       "57      oakland coliseum           hard rock stadium      2584  \n",
       "...                  ...                         ...       ...  \n",
       "14196   gillette stadium             metlife stadium       170  \n",
       "14198    metlife stadium     lincoln financial field        85  \n",
       "14199     levi's stadium                sofi stadium       339  \n",
       "14200     nissan stadium             tiaa bank field       517  \n",
       "14201         fedexfield                at&t stadium      1209  \n",
       "\n",
       "[1450 rows x 13 columns]"
      ]
     },
     "execution_count": 94,
     "metadata": {},
     "output_type": "execute_result"
    }
   ],
   "source": [
    "rows_with_nan = merged_game_data[merged_game_data.isna().any(axis=1)]\n",
    "\n",
    "rows_with_nan"
   ]
  },
  {
   "cell_type": "markdown",
   "metadata": {},
   "source": [
    "Since there is **missing data** in the _weather temperature_ column, find the **average** of the temperature at **each stadium** and use that to fill it into the **missing values**"
   ]
  },
  {
   "cell_type": "markdown",
   "metadata": {},
   "source": [
    "#### First Step: Find the _average temperature_ by stadium"
   ]
  },
  {
   "cell_type": "code",
   "execution_count": 95,
   "metadata": {},
   "outputs": [
    {
     "name": "stdout",
     "output_type": "stream",
     "text": [
      "home_stadium\n",
      "acrisure stadium                 48.056723\n",
      "allegiant stadium                72.000000\n",
      "arrowhead stadium                50.643038\n",
      "at&t stadium                     63.029787\n",
      "bank of america stadium          58.507538\n",
      "caesars superdome                71.230435\n",
      "empower field at mile high       48.015801\n",
      "fedexfield                       54.217703\n",
      "firstenergy stadium              49.049875\n",
      "ford field                       68.339869\n",
      "gillette stadium                 50.194774\n",
      "hard rock stadium                76.185096\n",
      "highmark stadium                 48.475490\n",
      "lambeau field                    44.065574\n",
      "levi's stadium                   57.809745\n",
      "lincoln financial field          52.819905\n",
      "los angeles memorial coliseum    62.459184\n",
      "lucas oil stadium                65.919588\n",
      "lumen field                      62.348525\n",
      "m&t bank stadium                 53.863636\n",
      "mercedes-benz stadium            65.550976\n",
      "metlife stadium                  53.027228\n",
      "nissan stadium                   65.777228\n",
      "nrg stadium                      72.260417\n",
      "oakland coliseum                 58.570447\n",
      "paycor stadium                   50.891688\n",
      "qualcomm stadium                 64.519126\n",
      "raymond james stadium            72.202857\n",
      "sofi stadium                     67.568898\n",
      "soldier field                    47.771635\n",
      "state farm stadium               63.518519\n",
      "stubhub center                   73.625000\n",
      "tiaa bank field                  69.363184\n",
      "u.s. bank stadium                62.553015\n",
      "Name: weather_temperature, dtype: float64\n"
     ]
    }
   ],
   "source": [
    "avg_temp_by_stadium = merged_game_data.groupby('home_stadium')['weather_temperature'].mean()\n",
    "print(avg_temp_by_stadium)"
   ]
  },
  {
   "cell_type": "markdown",
   "metadata": {},
   "source": [
    "#### Second Step: Fill it into the dataset"
   ]
  },
  {
   "cell_type": "code",
   "execution_count": 96,
   "metadata": {},
   "outputs": [],
   "source": [
    "merged_game_data['weather_temperature'] = merged_game_data.apply(\n",
    "    lambda row: avg_temp_by_stadium[row['home_stadium']] if pd.isna(row['weather_temperature']) else row['weather_temperature'],\n",
    "    axis=1\n",
    ")"
   ]
  },
  {
   "cell_type": "markdown",
   "metadata": {},
   "source": [
    "#### Third Step: Round all the _temperature values_ to **whole numbers**. "
   ]
  },
  {
   "cell_type": "code",
   "execution_count": 97,
   "metadata": {},
   "outputs": [],
   "source": [
    "merged_game_data['weather_temperature'] = merged_game_data['weather_temperature'].round().astype(int)"
   ]
  },
  {
   "cell_type": "markdown",
   "metadata": {},
   "source": [
    "#### Fourth Step: Check to see if there are any more **missing values**."
   ]
  },
  {
   "cell_type": "code",
   "execution_count": 98,
   "metadata": {},
   "outputs": [
    {
     "name": "stdout",
     "output_type": "stream",
     "text": [
      "0\n"
     ]
    }
   ],
   "source": [
    "print(merged_game_data['weather_temperature'].isna().sum())"
   ]
  },
  {
   "cell_type": "markdown",
   "metadata": {},
   "source": [
    "I will then check other related variables for this same thing."
   ]
  },
  {
   "cell_type": "code",
   "execution_count": 99,
   "metadata": {},
   "outputs": [
    {
     "name": "stdout",
     "output_type": "stream",
     "text": [
      "1449\n"
     ]
    }
   ],
   "source": [
    "print(merged_game_data['weather_wind_mph'].isna().sum())"
   ]
  },
  {
   "cell_type": "markdown",
   "metadata": {},
   "source": [
    "I see the _weather_wind_mph_ column has lots of **missing values**, so I will do the same process as before."
   ]
  },
  {
   "cell_type": "markdown",
   "metadata": {},
   "source": [
    "#### Step 1: Find the _average wind speed_ by stadium."
   ]
  },
  {
   "cell_type": "code",
   "execution_count": 100,
   "metadata": {},
   "outputs": [],
   "source": [
    "avg_wind_by_stadium = merged_game_data.groupby('home_stadium')['weather_wind_mph'].mean()\n"
   ]
  },
  {
   "cell_type": "markdown",
   "metadata": {},
   "source": [
    "#### Step 2: Fill it into the dataset."
   ]
  },
  {
   "cell_type": "code",
   "execution_count": 101,
   "metadata": {},
   "outputs": [],
   "source": [
    "merged_game_data['weather_wind_mph'] = merged_game_data.apply(\n",
    "    lambda row: avg_wind_by_stadium[row['home_stadium']] if pd.isna(row['weather_wind_mph']) else row['weather_wind_mph'],\n",
    "    axis=1\n",
    ")"
   ]
  },
  {
   "cell_type": "markdown",
   "metadata": {},
   "source": [
    "#### Step 3: Round all the values to **whole numbers**."
   ]
  },
  {
   "cell_type": "code",
   "execution_count": 102,
   "metadata": {},
   "outputs": [],
   "source": [
    "merged_game_data['weather_wind_mph'] = merged_game_data['weather_wind_mph'].round().astype(int)\n"
   ]
  },
  {
   "cell_type": "markdown",
   "metadata": {},
   "source": [
    "#### Step 4: Check if there are any **missing values**."
   ]
  },
  {
   "cell_type": "code",
   "execution_count": 103,
   "metadata": {},
   "outputs": [
    {
     "name": "stdout",
     "output_type": "stream",
     "text": [
      "0\n"
     ]
    }
   ],
   "source": [
    "print(merged_game_data['weather_wind_mph'].isna().sum())"
   ]
  },
  {
   "cell_type": "markdown",
   "metadata": {},
   "source": [
    "Here I turn the dataset into a file, so I have it saved on my computer as a **backup**."
   ]
  },
  {
   "cell_type": "code",
   "execution_count": 104,
   "metadata": {},
   "outputs": [],
   "source": [
    "merged_game_data.to_csv('merged_dataset.csv')"
   ]
  },
  {
   "cell_type": "markdown",
   "metadata": {},
   "source": [
    "## Step 4: Exploratory Data Analysis and Engineering"
   ]
  },
  {
   "cell_type": "markdown",
   "metadata": {},
   "source": [
    "Add a new column, the _home_win_margin_, to see how much the **home team wins** by in each game. Then add another column, showing **whether or not the home team won**. 1 for a win, 0 for a loss. "
   ]
  },
  {
   "cell_type": "code",
   "execution_count": 105,
   "metadata": {},
   "outputs": [
    {
     "data": {
      "text/html": [
       "<div>\n",
       "<style scoped>\n",
       "    .dataframe tbody tr th:only-of-type {\n",
       "        vertical-align: middle;\n",
       "    }\n",
       "\n",
       "    .dataframe tbody tr th {\n",
       "        vertical-align: top;\n",
       "    }\n",
       "\n",
       "    .dataframe thead th {\n",
       "        text-align: right;\n",
       "    }\n",
       "</style>\n",
       "<table border=\"1\" class=\"dataframe\">\n",
       "  <thead>\n",
       "    <tr style=\"text-align: right;\">\n",
       "      <th></th>\n",
       "      <th>schedule_date</th>\n",
       "      <th>schedule_season</th>\n",
       "      <th>schedule_playoff</th>\n",
       "      <th>team_home</th>\n",
       "      <th>score_home</th>\n",
       "      <th>score_away</th>\n",
       "      <th>team_away</th>\n",
       "      <th>stadium</th>\n",
       "      <th>weather_temperature</th>\n",
       "      <th>weather_wind_mph</th>\n",
       "      <th>home_stadium</th>\n",
       "      <th>away_stadium</th>\n",
       "      <th>distance</th>\n",
       "      <th>home_win_margin</th>\n",
       "      <th>home_team_won</th>\n",
       "    </tr>\n",
       "  </thead>\n",
       "  <tbody>\n",
       "    <tr>\n",
       "      <th>0</th>\n",
       "      <td>9/2/1966</td>\n",
       "      <td>1966</td>\n",
       "      <td>False</td>\n",
       "      <td>Miami Dolphins</td>\n",
       "      <td>14.0</td>\n",
       "      <td>23.0</td>\n",
       "      <td>Las Vegas Raiders</td>\n",
       "      <td>Orange Bowl</td>\n",
       "      <td>83</td>\n",
       "      <td>6</td>\n",
       "      <td>hard rock stadium</td>\n",
       "      <td>oakland coliseum</td>\n",
       "      <td>3000</td>\n",
       "      <td>-9.0</td>\n",
       "      <td>0</td>\n",
       "    </tr>\n",
       "    <tr>\n",
       "      <th>1</th>\n",
       "      <td>9/2/1966</td>\n",
       "      <td>1966</td>\n",
       "      <td>False</td>\n",
       "      <td>Miami Dolphins</td>\n",
       "      <td>14.0</td>\n",
       "      <td>23.0</td>\n",
       "      <td>Las Vegas Raiders</td>\n",
       "      <td>Orange Bowl</td>\n",
       "      <td>83</td>\n",
       "      <td>6</td>\n",
       "      <td>hard rock stadium</td>\n",
       "      <td>oakland coliseum</td>\n",
       "      <td>2584</td>\n",
       "      <td>-9.0</td>\n",
       "      <td>0</td>\n",
       "    </tr>\n",
       "    <tr>\n",
       "      <th>2</th>\n",
       "      <td>9/3/1966</td>\n",
       "      <td>1966</td>\n",
       "      <td>False</td>\n",
       "      <td>Tennessee Titans</td>\n",
       "      <td>45.0</td>\n",
       "      <td>7.0</td>\n",
       "      <td>Denver Broncos</td>\n",
       "      <td>Rice Stadium</td>\n",
       "      <td>81</td>\n",
       "      <td>7</td>\n",
       "      <td>nissan stadium</td>\n",
       "      <td>empower field at mile high</td>\n",
       "      <td>1016</td>\n",
       "      <td>38.0</td>\n",
       "      <td>1</td>\n",
       "    </tr>\n",
       "    <tr>\n",
       "      <th>3</th>\n",
       "      <td>9/4/1966</td>\n",
       "      <td>1966</td>\n",
       "      <td>False</td>\n",
       "      <td>Los Angeles Chargers</td>\n",
       "      <td>27.0</td>\n",
       "      <td>7.0</td>\n",
       "      <td>Buffalo Bills</td>\n",
       "      <td>Balboa Stadium</td>\n",
       "      <td>70</td>\n",
       "      <td>7</td>\n",
       "      <td>qualcomm stadium</td>\n",
       "      <td>highmark stadium</td>\n",
       "      <td>2201</td>\n",
       "      <td>20.0</td>\n",
       "      <td>1</td>\n",
       "    </tr>\n",
       "    <tr>\n",
       "      <th>4</th>\n",
       "      <td>9/9/1966</td>\n",
       "      <td>1966</td>\n",
       "      <td>False</td>\n",
       "      <td>Miami Dolphins</td>\n",
       "      <td>14.0</td>\n",
       "      <td>19.0</td>\n",
       "      <td>New York Jets</td>\n",
       "      <td>Orange Bowl</td>\n",
       "      <td>82</td>\n",
       "      <td>11</td>\n",
       "      <td>hard rock stadium</td>\n",
       "      <td>metlife stadium</td>\n",
       "      <td>1087</td>\n",
       "      <td>-5.0</td>\n",
       "      <td>0</td>\n",
       "    </tr>\n",
       "  </tbody>\n",
       "</table>\n",
       "</div>"
      ],
      "text/plain": [
       "  schedule_date  schedule_season  schedule_playoff             team_home  \\\n",
       "0      9/2/1966             1966             False        Miami Dolphins   \n",
       "1      9/2/1966             1966             False        Miami Dolphins   \n",
       "2      9/3/1966             1966             False      Tennessee Titans   \n",
       "3      9/4/1966             1966             False  Los Angeles Chargers   \n",
       "4      9/9/1966             1966             False        Miami Dolphins   \n",
       "\n",
       "   score_home  score_away          team_away         stadium  \\\n",
       "0        14.0        23.0  Las Vegas Raiders     Orange Bowl   \n",
       "1        14.0        23.0  Las Vegas Raiders     Orange Bowl   \n",
       "2        45.0         7.0     Denver Broncos    Rice Stadium   \n",
       "3        27.0         7.0      Buffalo Bills  Balboa Stadium   \n",
       "4        14.0        19.0      New York Jets     Orange Bowl   \n",
       "\n",
       "   weather_temperature  weather_wind_mph       home_stadium  \\\n",
       "0                   83                 6  hard rock stadium   \n",
       "1                   83                 6  hard rock stadium   \n",
       "2                   81                 7     nissan stadium   \n",
       "3                   70                 7   qualcomm stadium   \n",
       "4                   82                11  hard rock stadium   \n",
       "\n",
       "                 away_stadium  distance  home_win_margin  home_team_won  \n",
       "0            oakland coliseum      3000             -9.0              0  \n",
       "1            oakland coliseum      2584             -9.0              0  \n",
       "2  empower field at mile high      1016             38.0              1  \n",
       "3            highmark stadium      2201             20.0              1  \n",
       "4             metlife stadium      1087             -5.0              0  "
      ]
     },
     "execution_count": 105,
     "metadata": {},
     "output_type": "execute_result"
    }
   ],
   "source": [
    "merged_game_data['home_win_margin'] = merged_game_data['score_home'] - merged_game_data['score_away']\n",
    "merged_game_data['home_team_won'] = (merged_game_data['home_win_margin'] > 0).astype(int)\n",
    "merged_game_data.head()"
   ]
  },
  {
   "cell_type": "markdown",
   "metadata": {},
   "source": [
    "Create **bins** so we can _categorize_ how strong the wind was in each game. "
   ]
  },
  {
   "cell_type": "code",
   "execution_count": 106,
   "metadata": {},
   "outputs": [
    {
     "data": {
      "text/html": [
       "<div>\n",
       "<style scoped>\n",
       "    .dataframe tbody tr th:only-of-type {\n",
       "        vertical-align: middle;\n",
       "    }\n",
       "\n",
       "    .dataframe tbody tr th {\n",
       "        vertical-align: top;\n",
       "    }\n",
       "\n",
       "    .dataframe thead th {\n",
       "        text-align: right;\n",
       "    }\n",
       "</style>\n",
       "<table border=\"1\" class=\"dataframe\">\n",
       "  <thead>\n",
       "    <tr style=\"text-align: right;\">\n",
       "      <th></th>\n",
       "      <th>schedule_date</th>\n",
       "      <th>schedule_season</th>\n",
       "      <th>schedule_playoff</th>\n",
       "      <th>team_home</th>\n",
       "      <th>score_home</th>\n",
       "      <th>score_away</th>\n",
       "      <th>team_away</th>\n",
       "      <th>stadium</th>\n",
       "      <th>weather_temperature</th>\n",
       "      <th>weather_wind_mph</th>\n",
       "      <th>home_stadium</th>\n",
       "      <th>away_stadium</th>\n",
       "      <th>distance</th>\n",
       "      <th>home_win_margin</th>\n",
       "      <th>home_team_won</th>\n",
       "      <th>wind_category</th>\n",
       "    </tr>\n",
       "  </thead>\n",
       "  <tbody>\n",
       "    <tr>\n",
       "      <th>0</th>\n",
       "      <td>9/2/1966</td>\n",
       "      <td>1966</td>\n",
       "      <td>False</td>\n",
       "      <td>Miami Dolphins</td>\n",
       "      <td>14.0</td>\n",
       "      <td>23.0</td>\n",
       "      <td>Las Vegas Raiders</td>\n",
       "      <td>Orange Bowl</td>\n",
       "      <td>83</td>\n",
       "      <td>6</td>\n",
       "      <td>hard rock stadium</td>\n",
       "      <td>oakland coliseum</td>\n",
       "      <td>3000</td>\n",
       "      <td>-9.0</td>\n",
       "      <td>0</td>\n",
       "      <td>low</td>\n",
       "    </tr>\n",
       "    <tr>\n",
       "      <th>1</th>\n",
       "      <td>9/2/1966</td>\n",
       "      <td>1966</td>\n",
       "      <td>False</td>\n",
       "      <td>Miami Dolphins</td>\n",
       "      <td>14.0</td>\n",
       "      <td>23.0</td>\n",
       "      <td>Las Vegas Raiders</td>\n",
       "      <td>Orange Bowl</td>\n",
       "      <td>83</td>\n",
       "      <td>6</td>\n",
       "      <td>hard rock stadium</td>\n",
       "      <td>oakland coliseum</td>\n",
       "      <td>2584</td>\n",
       "      <td>-9.0</td>\n",
       "      <td>0</td>\n",
       "      <td>low</td>\n",
       "    </tr>\n",
       "    <tr>\n",
       "      <th>2</th>\n",
       "      <td>9/3/1966</td>\n",
       "      <td>1966</td>\n",
       "      <td>False</td>\n",
       "      <td>Tennessee Titans</td>\n",
       "      <td>45.0</td>\n",
       "      <td>7.0</td>\n",
       "      <td>Denver Broncos</td>\n",
       "      <td>Rice Stadium</td>\n",
       "      <td>81</td>\n",
       "      <td>7</td>\n",
       "      <td>nissan stadium</td>\n",
       "      <td>empower field at mile high</td>\n",
       "      <td>1016</td>\n",
       "      <td>38.0</td>\n",
       "      <td>1</td>\n",
       "      <td>low</td>\n",
       "    </tr>\n",
       "    <tr>\n",
       "      <th>3</th>\n",
       "      <td>9/4/1966</td>\n",
       "      <td>1966</td>\n",
       "      <td>False</td>\n",
       "      <td>Los Angeles Chargers</td>\n",
       "      <td>27.0</td>\n",
       "      <td>7.0</td>\n",
       "      <td>Buffalo Bills</td>\n",
       "      <td>Balboa Stadium</td>\n",
       "      <td>70</td>\n",
       "      <td>7</td>\n",
       "      <td>qualcomm stadium</td>\n",
       "      <td>highmark stadium</td>\n",
       "      <td>2201</td>\n",
       "      <td>20.0</td>\n",
       "      <td>1</td>\n",
       "      <td>low</td>\n",
       "    </tr>\n",
       "    <tr>\n",
       "      <th>4</th>\n",
       "      <td>9/9/1966</td>\n",
       "      <td>1966</td>\n",
       "      <td>False</td>\n",
       "      <td>Miami Dolphins</td>\n",
       "      <td>14.0</td>\n",
       "      <td>19.0</td>\n",
       "      <td>New York Jets</td>\n",
       "      <td>Orange Bowl</td>\n",
       "      <td>82</td>\n",
       "      <td>11</td>\n",
       "      <td>hard rock stadium</td>\n",
       "      <td>metlife stadium</td>\n",
       "      <td>1087</td>\n",
       "      <td>-5.0</td>\n",
       "      <td>0</td>\n",
       "      <td>moderate</td>\n",
       "    </tr>\n",
       "  </tbody>\n",
       "</table>\n",
       "</div>"
      ],
      "text/plain": [
       "  schedule_date  schedule_season  schedule_playoff             team_home  \\\n",
       "0      9/2/1966             1966             False        Miami Dolphins   \n",
       "1      9/2/1966             1966             False        Miami Dolphins   \n",
       "2      9/3/1966             1966             False      Tennessee Titans   \n",
       "3      9/4/1966             1966             False  Los Angeles Chargers   \n",
       "4      9/9/1966             1966             False        Miami Dolphins   \n",
       "\n",
       "   score_home  score_away          team_away         stadium  \\\n",
       "0        14.0        23.0  Las Vegas Raiders     Orange Bowl   \n",
       "1        14.0        23.0  Las Vegas Raiders     Orange Bowl   \n",
       "2        45.0         7.0     Denver Broncos    Rice Stadium   \n",
       "3        27.0         7.0      Buffalo Bills  Balboa Stadium   \n",
       "4        14.0        19.0      New York Jets     Orange Bowl   \n",
       "\n",
       "   weather_temperature  weather_wind_mph       home_stadium  \\\n",
       "0                   83                 6  hard rock stadium   \n",
       "1                   83                 6  hard rock stadium   \n",
       "2                   81                 7     nissan stadium   \n",
       "3                   70                 7   qualcomm stadium   \n",
       "4                   82                11  hard rock stadium   \n",
       "\n",
       "                 away_stadium  distance  home_win_margin  home_team_won  \\\n",
       "0            oakland coliseum      3000             -9.0              0   \n",
       "1            oakland coliseum      2584             -9.0              0   \n",
       "2  empower field at mile high      1016             38.0              1   \n",
       "3            highmark stadium      2201             20.0              1   \n",
       "4             metlife stadium      1087             -5.0              0   \n",
       "\n",
       "  wind_category  \n",
       "0           low  \n",
       "1           low  \n",
       "2           low  \n",
       "3           low  \n",
       "4      moderate  "
      ]
     },
     "execution_count": 106,
     "metadata": {},
     "output_type": "execute_result"
    }
   ],
   "source": [
    "merged_game_data['wind_category'] = pd.cut(\n",
    "    merged_game_data['weather_wind_mph'], \n",
    "    bins=[-1, 0, 10, 20, 100], \n",
    "    labels=['none', 'low', 'moderate', 'high']\n",
    ")\n",
    "\n",
    "merged_game_data.head() "
   ]
  },
  {
   "cell_type": "markdown",
   "metadata": {},
   "source": [
    "Round all _scores_ to **whole numbers**."
   ]
  },
  {
   "cell_type": "code",
   "execution_count": 107,
   "metadata": {},
   "outputs": [
    {
     "data": {
      "text/html": [
       "<div>\n",
       "<style scoped>\n",
       "    .dataframe tbody tr th:only-of-type {\n",
       "        vertical-align: middle;\n",
       "    }\n",
       "\n",
       "    .dataframe tbody tr th {\n",
       "        vertical-align: top;\n",
       "    }\n",
       "\n",
       "    .dataframe thead th {\n",
       "        text-align: right;\n",
       "    }\n",
       "</style>\n",
       "<table border=\"1\" class=\"dataframe\">\n",
       "  <thead>\n",
       "    <tr style=\"text-align: right;\">\n",
       "      <th></th>\n",
       "      <th>schedule_date</th>\n",
       "      <th>schedule_season</th>\n",
       "      <th>schedule_playoff</th>\n",
       "      <th>team_home</th>\n",
       "      <th>score_home</th>\n",
       "      <th>score_away</th>\n",
       "      <th>team_away</th>\n",
       "      <th>stadium</th>\n",
       "      <th>weather_temperature</th>\n",
       "      <th>weather_wind_mph</th>\n",
       "      <th>home_stadium</th>\n",
       "      <th>away_stadium</th>\n",
       "      <th>distance</th>\n",
       "      <th>home_win_margin</th>\n",
       "      <th>home_team_won</th>\n",
       "      <th>wind_category</th>\n",
       "    </tr>\n",
       "  </thead>\n",
       "  <tbody>\n",
       "    <tr>\n",
       "      <th>0</th>\n",
       "      <td>9/2/1966</td>\n",
       "      <td>1966</td>\n",
       "      <td>False</td>\n",
       "      <td>Miami Dolphins</td>\n",
       "      <td>14</td>\n",
       "      <td>23</td>\n",
       "      <td>Las Vegas Raiders</td>\n",
       "      <td>Orange Bowl</td>\n",
       "      <td>83</td>\n",
       "      <td>6</td>\n",
       "      <td>hard rock stadium</td>\n",
       "      <td>oakland coliseum</td>\n",
       "      <td>3000</td>\n",
       "      <td>-9.0</td>\n",
       "      <td>0</td>\n",
       "      <td>low</td>\n",
       "    </tr>\n",
       "    <tr>\n",
       "      <th>1</th>\n",
       "      <td>9/2/1966</td>\n",
       "      <td>1966</td>\n",
       "      <td>False</td>\n",
       "      <td>Miami Dolphins</td>\n",
       "      <td>14</td>\n",
       "      <td>23</td>\n",
       "      <td>Las Vegas Raiders</td>\n",
       "      <td>Orange Bowl</td>\n",
       "      <td>83</td>\n",
       "      <td>6</td>\n",
       "      <td>hard rock stadium</td>\n",
       "      <td>oakland coliseum</td>\n",
       "      <td>2584</td>\n",
       "      <td>-9.0</td>\n",
       "      <td>0</td>\n",
       "      <td>low</td>\n",
       "    </tr>\n",
       "    <tr>\n",
       "      <th>2</th>\n",
       "      <td>9/3/1966</td>\n",
       "      <td>1966</td>\n",
       "      <td>False</td>\n",
       "      <td>Tennessee Titans</td>\n",
       "      <td>45</td>\n",
       "      <td>7</td>\n",
       "      <td>Denver Broncos</td>\n",
       "      <td>Rice Stadium</td>\n",
       "      <td>81</td>\n",
       "      <td>7</td>\n",
       "      <td>nissan stadium</td>\n",
       "      <td>empower field at mile high</td>\n",
       "      <td>1016</td>\n",
       "      <td>38.0</td>\n",
       "      <td>1</td>\n",
       "      <td>low</td>\n",
       "    </tr>\n",
       "    <tr>\n",
       "      <th>3</th>\n",
       "      <td>9/4/1966</td>\n",
       "      <td>1966</td>\n",
       "      <td>False</td>\n",
       "      <td>Los Angeles Chargers</td>\n",
       "      <td>27</td>\n",
       "      <td>7</td>\n",
       "      <td>Buffalo Bills</td>\n",
       "      <td>Balboa Stadium</td>\n",
       "      <td>70</td>\n",
       "      <td>7</td>\n",
       "      <td>qualcomm stadium</td>\n",
       "      <td>highmark stadium</td>\n",
       "      <td>2201</td>\n",
       "      <td>20.0</td>\n",
       "      <td>1</td>\n",
       "      <td>low</td>\n",
       "    </tr>\n",
       "    <tr>\n",
       "      <th>4</th>\n",
       "      <td>9/9/1966</td>\n",
       "      <td>1966</td>\n",
       "      <td>False</td>\n",
       "      <td>Miami Dolphins</td>\n",
       "      <td>14</td>\n",
       "      <td>19</td>\n",
       "      <td>New York Jets</td>\n",
       "      <td>Orange Bowl</td>\n",
       "      <td>82</td>\n",
       "      <td>11</td>\n",
       "      <td>hard rock stadium</td>\n",
       "      <td>metlife stadium</td>\n",
       "      <td>1087</td>\n",
       "      <td>-5.0</td>\n",
       "      <td>0</td>\n",
       "      <td>moderate</td>\n",
       "    </tr>\n",
       "  </tbody>\n",
       "</table>\n",
       "</div>"
      ],
      "text/plain": [
       "  schedule_date  schedule_season  schedule_playoff             team_home  \\\n",
       "0      9/2/1966             1966             False        Miami Dolphins   \n",
       "1      9/2/1966             1966             False        Miami Dolphins   \n",
       "2      9/3/1966             1966             False      Tennessee Titans   \n",
       "3      9/4/1966             1966             False  Los Angeles Chargers   \n",
       "4      9/9/1966             1966             False        Miami Dolphins   \n",
       "\n",
       "   score_home  score_away          team_away         stadium  \\\n",
       "0          14          23  Las Vegas Raiders     Orange Bowl   \n",
       "1          14          23  Las Vegas Raiders     Orange Bowl   \n",
       "2          45           7     Denver Broncos    Rice Stadium   \n",
       "3          27           7      Buffalo Bills  Balboa Stadium   \n",
       "4          14          19      New York Jets     Orange Bowl   \n",
       "\n",
       "   weather_temperature  weather_wind_mph       home_stadium  \\\n",
       "0                   83                 6  hard rock stadium   \n",
       "1                   83                 6  hard rock stadium   \n",
       "2                   81                 7     nissan stadium   \n",
       "3                   70                 7   qualcomm stadium   \n",
       "4                   82                11  hard rock stadium   \n",
       "\n",
       "                 away_stadium  distance  home_win_margin  home_team_won  \\\n",
       "0            oakland coliseum      3000             -9.0              0   \n",
       "1            oakland coliseum      2584             -9.0              0   \n",
       "2  empower field at mile high      1016             38.0              1   \n",
       "3            highmark stadium      2201             20.0              1   \n",
       "4             metlife stadium      1087             -5.0              0   \n",
       "\n",
       "  wind_category  \n",
       "0           low  \n",
       "1           low  \n",
       "2           low  \n",
       "3           low  \n",
       "4      moderate  "
      ]
     },
     "execution_count": 107,
     "metadata": {},
     "output_type": "execute_result"
    }
   ],
   "source": [
    "merged_game_data['score_home'] = merged_game_data['score_home'].round().astype(int)\n",
    "merged_game_data['score_away'] = merged_game_data['score_away'].round().astype(int)\n",
    "merged_game_data.head()\n"
   ]
  },
  {
   "cell_type": "markdown",
   "metadata": {},
   "source": [
    "I use this code below to see if there are any more **null values** in my dataset to so I can be done with **preprocessing**."
   ]
  },
  {
   "cell_type": "code",
   "execution_count": 108,
   "metadata": {},
   "outputs": [
    {
     "data": {
      "text/plain": [
       "schedule_date          0\n",
       "schedule_season        0\n",
       "schedule_playoff       0\n",
       "team_home              0\n",
       "score_home             0\n",
       "score_away             0\n",
       "team_away              0\n",
       "stadium                0\n",
       "weather_temperature    0\n",
       "weather_wind_mph       0\n",
       "home_stadium           0\n",
       "away_stadium           0\n",
       "distance               0\n",
       "home_win_margin        0\n",
       "home_team_won          0\n",
       "wind_category          0\n",
       "dtype: int64"
      ]
     },
     "execution_count": 108,
     "metadata": {},
     "output_type": "execute_result"
    }
   ],
   "source": [
    "null_values = merged_game_data.isnull().sum()\n",
    "null_values"
   ]
  },
  {
   "cell_type": "markdown",
   "metadata": {},
   "source": [
    "_________________________________________________________________________________________________________________________________________"
   ]
  },
  {
   "cell_type": "markdown",
   "metadata": {},
   "source": [
    "Next, I am going to create **travel bins**, so that I can **categorize** the **distances** teams have to _travel_. This is will help when we **visualize** the data."
   ]
  },
  {
   "cell_type": "code",
   "execution_count": 109,
   "metadata": {},
   "outputs": [
    {
     "data": {
      "text/html": [
       "<div>\n",
       "<style scoped>\n",
       "    .dataframe tbody tr th:only-of-type {\n",
       "        vertical-align: middle;\n",
       "    }\n",
       "\n",
       "    .dataframe tbody tr th {\n",
       "        vertical-align: top;\n",
       "    }\n",
       "\n",
       "    .dataframe thead th {\n",
       "        text-align: right;\n",
       "    }\n",
       "</style>\n",
       "<table border=\"1\" class=\"dataframe\">\n",
       "  <thead>\n",
       "    <tr style=\"text-align: right;\">\n",
       "      <th></th>\n",
       "      <th>distance</th>\n",
       "      <th>travel_distance_bin</th>\n",
       "    </tr>\n",
       "  </thead>\n",
       "  <tbody>\n",
       "    <tr>\n",
       "      <th>0</th>\n",
       "      <td>3000</td>\n",
       "      <td>very long</td>\n",
       "    </tr>\n",
       "    <tr>\n",
       "      <th>1</th>\n",
       "      <td>2584</td>\n",
       "      <td>long</td>\n",
       "    </tr>\n",
       "    <tr>\n",
       "      <th>2</th>\n",
       "      <td>1016</td>\n",
       "      <td>short</td>\n",
       "    </tr>\n",
       "    <tr>\n",
       "      <th>3</th>\n",
       "      <td>2201</td>\n",
       "      <td>long</td>\n",
       "    </tr>\n",
       "    <tr>\n",
       "      <th>4</th>\n",
       "      <td>1087</td>\n",
       "      <td>short</td>\n",
       "    </tr>\n",
       "  </tbody>\n",
       "</table>\n",
       "</div>"
      ],
      "text/plain": [
       "   distance travel_distance_bin\n",
       "0      3000           very long\n",
       "1      2584                long\n",
       "2      1016               short\n",
       "3      2201                long\n",
       "4      1087               short"
      ]
     },
     "execution_count": 109,
     "metadata": {},
     "output_type": "execute_result"
    }
   ],
   "source": [
    "travel_bins = [1, 660, 1320, 1980, 2640, 3300]\n",
    "\n",
    "bin_labels = ['very short', 'short', 'medium', 'long', 'very long']\n",
    "\n",
    "merged_game_data['travel_distance_bin'] = pd.cut(\n",
    "    merged_game_data['distance'], \n",
    "    bins=travel_bins, \n",
    "    labels=bin_labels,\n",
    "    include_lowest=True\n",
    ")\n",
    "#This code is to expilcitiy set a bin with a distance of 0 to 'no travel' for teams that share stadiums with one another.\n",
    "merged_game_data['travel_distance_bin'] = merged_game_data['travel_distance_bin'].cat.add_categories('no travel')\n",
    "\n",
    "merged_game_data.loc[merged_game_data['distance'] == 0, 'travel_distance_bin'] = 'no travel'\n",
    "\n",
    "merged_game_data[['distance', 'travel_distance_bin']].head()"
   ]
  },
  {
   "cell_type": "markdown",
   "metadata": {},
   "source": [
    "I create a _win_rate_by_distance_ variable that shows the **win rate percentage** at each categorical bin. "
   ]
  },
  {
   "cell_type": "code",
   "execution_count": 110,
   "metadata": {},
   "outputs": [
    {
     "name": "stderr",
     "output_type": "stream",
     "text": [
      "/var/folders/hj/ss74h5m100j0j4b3f9n9tknh0000gn/T/ipykernel_25189/144600722.py:1: FutureWarning: The default of observed=False is deprecated and will be changed to True in a future version of pandas. Pass observed=False to retain current behavior or observed=True to adopt the future default and silence this warning.\n",
      "  win_rate_by_distance = merged_game_data.groupby('travel_distance_bin')['home_team_won'].mean()\n"
     ]
    },
    {
     "data": {
      "text/plain": [
       "travel_distance_bin\n",
       "very short    56.5\n",
       "short         57.6\n",
       "medium        57.3\n",
       "long          58.3\n",
       "very long     49.2\n",
       "no travel     37.5\n",
       "Name: home_team_won, dtype: float64"
      ]
     },
     "execution_count": 110,
     "metadata": {},
     "output_type": "execute_result"
    }
   ],
   "source": [
    "win_rate_by_distance = merged_game_data.groupby('travel_distance_bin')['home_team_won'].mean()\n",
    "win_rate_by_distance = (win_rate_by_distance * 100).round(1)\n",
    "win_rate_by_distance.head(6)"
   ]
  },
  {
   "cell_type": "code",
   "execution_count": 111,
   "metadata": {},
   "outputs": [
    {
     "data": {
      "image/png": "[encoded data removed]",
      "text/plain": [
       "<Figure size 600x400 with 1 Axes>"
      ]
     },
     "metadata": {},
     "output_type": "display_data"
    }
   ],
   "source": [
    "home_win_percentage = merged_game_data['home_team_won'].mean() * 100\n",
    "away_win_percentage = (1 - merged_game_data['home_team_won']).mean() * 100\n",
    "\n",
    "win_percentages = [home_win_percentage, away_win_percentage]\n",
    "labels = ['Home Win %', 'Away Win %']\n",
    "\n",
    "plt.figure(figsize=(6, 4))\n",
    "plt.bar(labels, win_percentages, color=['skyblue', 'salmon'])\n",
    "plt.title('Home vs. Away Win Percentages')\n",
    "plt.ylabel('Win Percentage (%)')\n",
    "plt.ylim(0, 100)\n",
    "plt.show()"
   ]
  },
  {
   "cell_type": "code",
   "execution_count": 112,
   "metadata": {},
   "outputs": [
    {
     "data": {
      "image/png": "[encoded data removed]",
      "text/plain": [
       "<Figure size 600x400 with 1 Axes>"
      ]
     },
     "metadata": {},
     "output_type": "display_data"
    }
   ],
   "source": [
    "home_win_margin = merged_game_data['home_win_margin'].mean()\n",
    "away_win_margin = (-merged_game_data['home_win_margin']).mean()  \n",
    "\n",
    "win_margins = [home_win_margin, away_win_margin]\n",
    "labels = ['Home Win Margin', 'Away Win Margin']\n",
    "\n",
    "plt.figure(figsize=(6, 4))\n",
    "plt.bar(labels, win_margins, color=['skyblue', 'salmon'])\n",
    "plt.title('Home vs. Away Win Margins')\n",
    "plt.ylabel('Average Win Margin')\n",
    "plt.show()"
   ]
  },
  {
   "cell_type": "markdown",
   "metadata": {},
   "source": [
    "### **What does this tell us?**\n",
    "The charts above show that **home teams** win about **58%** of the time, while **away teams** win around **42%**, and **home teams** tend to win by a **larger margin** compared to **away teams**. The _average home win margin_ is **over 2 points**, while away teams generally lose by a similar margin. These numbers clearly **support** the concept of **home-field advantage** in the NFL."
   ]
  },
  {
   "cell_type": "markdown",
   "metadata": {},
   "source": [
    "Next, I will conduct two separate **t-tests**; one for _win percentages_ and one for _win margin_, to determine if the differences in the data are **statistically significant**."
   ]
  },
  {
   "cell_type": "code",
   "execution_count": 113,
   "metadata": {},
   "outputs": [
    {
     "name": "stdout",
     "output_type": "stream",
     "text": [
      "Home vs. Away Win Margins - T-statistic: 30.19324352068121, P-value: 3.7793819620462044e-197\n"
     ]
    }
   ],
   "source": [
    "merged_game_data['away_win_margin'] = -merged_game_data['home_win_margin']\n",
    "\n",
    "home_win_margins = merged_game_data['home_win_margin']\n",
    "away_win_margins = merged_game_data['away_win_margin']\n",
    "\n",
    "t_stat, p_value = stats.ttest_ind(home_win_margins, away_win_margins, nan_policy='omit')\n",
    "\n",
    "print(f\"Home vs. Away Win Margins - T-statistic: {t_stat}, P-value: {p_value}\")"
   ]
  },
  {
   "cell_type": "markdown",
   "metadata": {},
   "source": [
    "The **t-test** results for _home vs. away_ **win margins** show a **T-statistic of 30.19** and a **P-value of 3.78e-197**, which is incredibly **small**. This means there’s a huge difference between how much home and away teams win by. **Home teams** tend to win by much **larger margins**, and this difference isn’t due to random chance. It really highlights just how big of a role **home-field advantage** plays in NFL games, not only in winning but also in the size of the victory."
   ]
  },
  {
   "cell_type": "code",
   "execution_count": 114,
   "metadata": {},
   "outputs": [
    {
     "name": "stdout",
     "output_type": "stream",
     "text": [
      "Home vs. Away Win Rates - T-statistic: 23.995525852025825, P-value: 5.551412526859514e-126\n"
     ]
    }
   ],
   "source": [
    "merged_game_data['away_team_won'] = 1 - merged_game_data['home_team_won']\n",
    "\n",
    "home_win_rates = merged_game_data['home_team_won']\n",
    "away_win_rates = merged_game_data['away_team_won']\n",
    "\n",
    "t_stat, p_value = stats.ttest_ind(home_win_rates, away_win_rates, nan_policy='omit')\n",
    "\n",
    "print(f\"Home vs. Away Win Rates - T-statistic: {t_stat}, P-value: {p_value}\")"
   ]
  },
  {
   "cell_type": "markdown",
   "metadata": {},
   "source": [
    "The **t-test** above comparing _home vs. away_ **win rates** in the NFL showed a **t-statistic** of **23.99** and a **p-value of 5.55e-126**, indicating a **significant** difference. This suggests that home teams tend to win **more often** than away teams, supporting the idea of **home-field advantage**. However, since the win rates are directly related (one team wins, the other loses), the extremely small p-value reflects this. "
   ]
  },
  {
   "cell_type": "markdown",
   "metadata": {},
   "source": [
    "_________________________________________________________________________________________________________________________________________"
   ]
  },
  {
   "cell_type": "markdown",
   "metadata": {},
   "source": [
    "Below, I create a **bar graph** to see if there is a **correlation** between the _home team's win rate_ and the _away team's travel distance._"
   ]
  },
  {
   "cell_type": "code",
   "execution_count": 115,
   "metadata": {},
   "outputs": [
    {
     "data": {
      "image/png": "[encoded data removed]",
      "text/plain": [
       "<Figure size 640x480 with 1 Axes>"
      ]
     },
     "metadata": {},
     "output_type": "display_data"
    }
   ],
   "source": [
    "win_rate_by_distance.plot(kind='bar')\n",
    "plt.title('Home Team Win Rate by Opposing Travel Distance')\n",
    "plt.xlabel('Travel Distance (miles)')\n",
    "plt.ylabel('Win Rate')\n",
    "\n",
    "plt.yticks(range(0, int(win_rate_by_distance.max()) + 5, 5))\n",
    "\n",
    "plt.xticks(rotation=0)\n",
    "\n",
    "plt.show()"
   ]
  },
  {
   "cell_type": "markdown",
   "metadata": {},
   "source": [
    "### **What we can gather from the graph:**\n",
    "The graph above illustrates that the _home team’s win rate_ is **consistently higher** when the away team **has** to travel, compared to instances where **no travel** is required. The only cases where the away team doesn’t travel are when teams share the same home stadium, as seen with the Los Angeles Chargers and Los Angeles Rams."
   ]
  },
  {
   "cell_type": "markdown",
   "metadata": {},
   "source": [
    "_________________________________________________________________________________________________________________________________________"
   ]
  },
  {
   "cell_type": "markdown",
   "metadata": {},
   "source": [
    "I then get the __average__ *weather temp* and **wind speed** at each stadium. I add this to the _merged_game_data_ dataset. "
   ]
  },
  {
   "cell_type": "code",
   "execution_count": 116,
   "metadata": {},
   "outputs": [],
   "source": [
    "normal_conditions_by_stadium = merged_game_data.groupby('home_stadium')[['weather_temperature', 'weather_wind_mph']].mean().round(1)\n",
    "\n",
    "merged_game_data = merged_game_data.merge(normal_conditions_by_stadium, on='home_stadium', suffixes=('', '_home_avg'))"
   ]
  },
  {
   "cell_type": "markdown",
   "metadata": {},
   "source": [
    "Here is where I add two columns called _temperature_familiary_ and _wind_familiary_ to my dataset which say whether or not the team is **used to the conditions** that were played at the game (**familiar** or **unfamiliar**). "
   ]
  },
  {
   "cell_type": "code",
   "execution_count": 117,
   "metadata": {},
   "outputs": [],
   "source": [
    "merged_game_data['temperature_familiarity'] = merged_game_data.apply(\n",
    "    lambda row: 'familiar' if abs(row['weather_temperature'] - row['weather_temperature_home_avg']) <= 15  else 'unfamiliar',\n",
    "    axis=1\n",
    ")\n",
    "\n",
    "merged_game_data['wind_familiarity'] = merged_game_data.apply(\n",
    "    lambda row: 'familiar' if abs(row['weather_wind_mph'] - row['weather_wind_mph_home_avg']) <= 10 else 'unfamiliar',\n",
    "    axis=1\n",
    ")"
   ]
  },
  {
   "cell_type": "markdown",
   "metadata": {},
   "source": [
    "The cell below shows the _win rate_ for the home team based off of their **familiarity** with the _temperature_."
   ]
  },
  {
   "cell_type": "code",
   "execution_count": 118,
   "metadata": {},
   "outputs": [
    {
     "data": {
      "image/png": "[encoded data removed]",
      "text/plain": [
       "<Figure size 640x480 with 1 Axes>"
      ]
     },
     "metadata": {},
     "output_type": "display_data"
    }
   ],
   "source": [
    "win_rate_by_temperature_familiarity = merged_game_data.groupby('temperature_familiarity')['home_team_won'].mean() * 100\n",
    "\n",
    "away_win_rate_by_temperature_familiarity = 100 - win_rate_by_temperature_familiarity\n",
    "\n",
    "win_rates_by_temperature_familiarity = pd.DataFrame({\n",
    "    'Home Win Rate': win_rate_by_temperature_familiarity,\n",
    "    'Away Win Rate': away_win_rate_by_temperature_familiarity\n",
    "})\n",
    "\n",
    "win_rates_by_temperature_familiarity.plot(kind='bar', color=['skyblue', 'salmon'])\n",
    "plt.title('Win Rates by Temperature Familiarity (Home vs Away)')\n",
    "plt.xlabel('Temperature Familiarity')\n",
    "plt.ylabel('Win Rate (%)')\n",
    "plt.xticks(rotation=0)\n",
    "plt.ylim(0, 100) \n",
    "\n",
    "plt.show()"
   ]
  },
  {
   "cell_type": "markdown",
   "metadata": {},
   "source": [
    "The code below shows the same as above, but for _wind familiarity_. "
   ]
  },
  {
   "cell_type": "code",
   "execution_count": 119,
   "metadata": {},
   "outputs": [
    {
     "data": {
      "image/png": "[encoded data removed]",
      "text/plain": [
       "<Figure size 640x480 with 1 Axes>"
      ]
     },
     "metadata": {},
     "output_type": "display_data"
    }
   ],
   "source": [
    "win_rate_by_wind_familiarity = merged_game_data.groupby('wind_familiarity')['home_team_won'].mean() * 100\n",
    "\n",
    "away_win_rate_by_wind_familiarity = 100 - win_rate_by_wind_familiarity\n",
    "\n",
    "win_rates_by_wind_familiarity = pd.DataFrame({\n",
    "    'Home Win Rate': win_rate_by_wind_familiarity,\n",
    "    'Away Win Rate': away_win_rate_by_wind_familiarity\n",
    "})\n",
    "\n",
    "win_rates_by_wind_familiarity.plot(kind='bar', color=['skyblue', 'salmon'])\n",
    "plt.title('Win Rates by Wind Familiarity (Home vs Away)')\n",
    "plt.xlabel('Wind Familiarity')\n",
    "plt.ylabel('Win Rate (%)')\n",
    "plt.xticks(rotation=0)\n",
    "plt.ylim(0, 100) \n",
    "\n",
    "plt.show()"
   ]
  },
  {
   "cell_type": "markdown",
   "metadata": {},
   "source": [
    "The code below calculates **how much the home team wins by** when they are faced with **familiar** and **unfamiliar** **conditions**. "
   ]
  },
  {
   "cell_type": "code",
   "execution_count": 120,
   "metadata": {},
   "outputs": [
    {
     "data": {
      "image/png": "[encoded data removed]",
      "text/plain": [
       "<Figure size 640x480 with 1 Axes>"
      ]
     },
     "metadata": {},
     "output_type": "display_data"
    }
   ],
   "source": [
    "win_margin_by_temp_familiarity = merged_game_data.groupby('temperature_familiarity')['home_win_margin'].mean()\n",
    "\n",
    "away_margin_by_temp_familiarity = -win_margin_by_temp_familiarity\n",
    "\n",
    "win_margins_by_temp_familiarity = pd.DataFrame({\n",
    "    'Home Win Margin': win_margin_by_temp_familiarity,\n",
    "    'Away Win Margin': away_margin_by_temp_familiarity\n",
    "})\n",
    "\n",
    "win_margins_by_temp_familiarity.plot(kind='bar', color=['skyblue', 'salmon'])\n",
    "plt.title('Win Margins by Temperature Familiarity (Home vs Away)')\n",
    "plt.xlabel('Temperature Familiarity')\n",
    "plt.ylabel('Average Win Margin')\n",
    "plt.xticks(rotation=0)\n",
    "plt.show()"
   ]
  },
  {
   "cell_type": "code",
   "execution_count": 121,
   "metadata": {},
   "outputs": [
    {
     "data": {
      "image/png": "[encoded data removed]",
      "text/plain": [
       "<Figure size 640x480 with 1 Axes>"
      ]
     },
     "metadata": {},
     "output_type": "display_data"
    }
   ],
   "source": [
    "win_margin_by_wind_familiarity = merged_game_data.groupby('wind_familiarity')['home_win_margin'].mean()\n",
    "\n",
    "away_margin_by_wind_familiarity = -win_margin_by_wind_familiarity\n",
    "\n",
    "win_margins_by_wind_familiarity = pd.DataFrame({\n",
    "    'Home Win Margin': win_margin_by_wind_familiarity,\n",
    "    'Away Win Margin': away_margin_by_wind_familiarity\n",
    "})\n",
    "\n",
    "win_margins_by_wind_familiarity.plot(kind='bar', color=['skyblue', 'salmon'])\n",
    "plt.title('Win Margins by Wind Familiarity (Home vs Away)')\n",
    "plt.xlabel('Wind Familiarity')\n",
    "plt.ylabel('Average Win Margin')\n",
    "plt.xticks(rotation=0)\n",
    "plt.show()"
   ]
  },
  {
   "cell_type": "markdown",
   "metadata": {},
   "source": [
    "### **What this indicates**:\n",
    "We can see from the four graphs above that a team's **familiarity** with _weather conditions_ has **no effect** on the outcome of the game. In all graphs, the home team has a consistently _higher win rate_ and _win margin_, even if the away team is familiar with the weather conditions.  We can conclude that the home team performs better **regardless** of _weather conditions_."
   ]
  },
  {
   "cell_type": "markdown",
   "metadata": {},
   "source": [
    "Next I do the same as I did previously and conduct two **t-tests**, one for _temperature_ and one for _wind speed_."
   ]
  },
  {
   "cell_type": "code",
   "execution_count": 122,
   "metadata": {},
   "outputs": [
    {
     "name": "stdout",
     "output_type": "stream",
     "text": [
      "Temperature Familiarity - T-statistic: -2.3694661915336828, P-value: 0.017827063127151925\n",
      "Wind Familiarity - T-statistic: 0.06351968475148594, P-value: 0.9493535778507926\n"
     ]
    }
   ],
   "source": [
    "familiar_temp_margins = merged_game_data[merged_game_data['temperature_familiarity'] == 'familiar']['home_win_margin']\n",
    "unfamiliar_temp_margins = merged_game_data[merged_game_data['temperature_familiarity'] == 'unfamiliar']['home_win_margin']\n",
    "\n",
    "t_stat_temp, p_value_temp = stats.ttest_ind(familiar_temp_margins, unfamiliar_temp_margins, nan_policy='omit')\n",
    "\n",
    "print(f\"Temperature Familiarity - T-statistic: {t_stat_temp}, P-value: {p_value_temp}\")\n",
    "\n",
    "familiar_wind_margins = merged_game_data[merged_game_data['wind_familiarity'] == 'familiar']['home_win_margin']\n",
    "unfamiliar_wind_margins = merged_game_data[merged_game_data['wind_familiarity'] == 'unfamiliar']['home_win_margin']\n",
    "\n",
    "t_stat_wind, p_value_wind = stats.ttest_ind(familiar_wind_margins, unfamiliar_wind_margins, nan_policy='omit')\n",
    "\n",
    "print(f\"Wind Familiarity - T-statistic: {t_stat_wind}, P-value: {p_value_wind}\")"
   ]
  },
  {
   "cell_type": "markdown",
   "metadata": {},
   "source": [
    "The analysis reveals that temperature familiarity **significantly impacts** _home team performance_, as unfamiliar temperature conditions are associated with a smaller win margin for the home team **(p-value = 0.0178)**. On the other hand, _wind familiarity_ shows **no significant effect** on _win margins_, with almost identical results in familiar and unfamiliar wind conditions **(p-value = 0.9494)**. This suggests that while temperature plays a role in home-field advantage, _wind conditions_ may **not** have the same level of influence on the outcome of NFL games."
   ]
  },
  {
   "cell_type": "markdown",
   "metadata": {},
   "source": [
    "_________________________________________________________________________________________________________________________________________"
   ]
  },
  {
   "cell_type": "markdown",
   "metadata": {},
   "source": [
    "The next few sections of code are about the **type of game** that is being played (playoff or regular season game). It compares the **outcome** of the game with **home** and **away teams** based on whether or not it is a **regular season game** or **playoff game**. "
   ]
  },
  {
   "cell_type": "markdown",
   "metadata": {},
   "source": [
    "#### **Why?** \n",
    "**Home-field advantage** in the **playoffs** can be more severe than in **regular-season games** due to the **increased pressure** on away teams and the impact of a **loud, engaged home crowd**. The stakes are higher, amplifying the **psychological pressure** on visiting teams, while the home crowd’s energy can **disrupt the away team’s communication** and **lead to mistakes**. Having a **bigger home fan base** can also **boost morale**, causing increased **confidence** and **energy**. \n"
   ]
  },
  {
   "cell_type": "code",
   "execution_count": 123,
   "metadata": {},
   "outputs": [],
   "source": [
    "merged_game_data['away_win_margin'] = -merged_game_data['home_win_margin']"
   ]
  },
  {
   "cell_type": "code",
   "execution_count": 124,
   "metadata": {},
   "outputs": [
    {
     "name": "stdout",
     "output_type": "stream",
     "text": [
      "Average Home Win Margin (Playoff Games): 6.155143338954469\n",
      "Average Away Win Margin (Playoff Games): -6.155143338954469\n",
      "Average Home Win Margin (Regular Season Games): 2.5107163828537873\n",
      "Average Away Win Margin (Regular Season Games): -2.5107163828537873\n"
     ]
    }
   ],
   "source": [
    "playoff_games = merged_game_data[merged_game_data['schedule_playoff'] == True]\n",
    "regular_season_games = merged_game_data[merged_game_data['schedule_playoff'] == False]\n",
    "\n",
    "avg_home_win_margin_playoff = playoff_games['home_win_margin'].mean()\n",
    "avg_away_win_margin_playoff = playoff_games['away_win_margin'].mean()\n",
    "\n",
    "avg_home_win_margin_regular = regular_season_games['home_win_margin'].mean()\n",
    "avg_away_win_margin_regular = regular_season_games['away_win_margin'].mean()\n",
    "\n",
    "print(f'Average Home Win Margin (Playoff Games): {avg_home_win_margin_playoff}')\n",
    "print(f'Average Away Win Margin (Playoff Games): {avg_away_win_margin_playoff}')\n",
    "print(f'Average Home Win Margin (Regular Season Games): {avg_home_win_margin_regular}')\n",
    "print(f'Average Away Win Margin (Regular Season Games): {avg_away_win_margin_regular}')"
   ]
  },
  {
   "cell_type": "code",
   "execution_count": 125,
   "metadata": {},
   "outputs": [
    {
     "data": {
      "image/png": "[encoded data removed]",
      "text/plain": [
       "<Figure size 600x400 with 1 Axes>"
      ]
     },
     "metadata": {},
     "output_type": "display_data"
    },
    {
     "data": {
      "image/png": "[encoded data removed]",
      "text/plain": [
       "<Figure size 600x400 with 1 Axes>"
      ]
     },
     "metadata": {},
     "output_type": "display_data"
    }
   ],
   "source": [
    "playoff_margins = [avg_home_win_margin_playoff, avg_away_win_margin_playoff]\n",
    "labels = ['Home', 'Away']\n",
    "\n",
    "plt.figure(figsize=(6, 4))\n",
    "plt.bar(labels, playoff_margins, color=['skyblue', 'salmon'])\n",
    "plt.title('Average Win Margin in Playoff Games')\n",
    "plt.xlabel('Team')\n",
    "plt.ylabel('Average Win Margin')\n",
    "plt.show()\n",
    "\n",
    "regular_margins = [avg_home_win_margin_regular, avg_away_win_margin_regular]\n",
    "labels = ['Home', 'Away']\n",
    "\n",
    "plt.figure(figsize=(6, 4))\n",
    "plt.bar(labels, regular_margins, color=['skyblue', 'salmon'])\n",
    "plt.title('Average Win Margin in Regular Season Games')\n",
    "plt.xlabel('Team')\n",
    "plt.ylabel('Average Win Margin')\n",
    "plt.show()"
   ]
  },
  {
   "cell_type": "code",
   "execution_count": 126,
   "metadata": {},
   "outputs": [
    {
     "name": "stdout",
     "output_type": "stream",
     "text": [
      "Home Win Rate (Playoff Games): 65.93591905564924%\n",
      "Away Win Rate (Playoff Games): 34.06408094435076%\n",
      "Home Win Rate (Regular Season Games): 56.657369348209045%\n",
      "Away Win Rate (Regular Season Games): 43.342630651790955%\n"
     ]
    }
   ],
   "source": [
    "home_win_rate_playoff = (playoff_games['home_team_won'].mean()) * 100\n",
    "home_win_rate_regular = (regular_season_games['home_team_won'].mean()) * 100\n",
    "\n",
    "away_win_rate_playoff = 100 - home_win_rate_playoff\n",
    "away_win_rate_regular = 100 - home_win_rate_regular\n",
    "\n",
    "print(f'Home Win Rate (Playoff Games): {home_win_rate_playoff}%')\n",
    "print(f'Away Win Rate (Playoff Games): {away_win_rate_playoff}%')\n",
    "print(f'Home Win Rate (Regular Season Games): {home_win_rate_regular}%')\n",
    "print(f'Away Win Rate (Regular Season Games): {away_win_rate_regular}%')"
   ]
  },
  {
   "cell_type": "code",
   "execution_count": 127,
   "metadata": {},
   "outputs": [
    {
     "data": {
      "image/png": "[encoded data removed]",
      "text/plain": [
       "<Figure size 600x400 with 1 Axes>"
      ]
     },
     "metadata": {},
     "output_type": "display_data"
    },
    {
     "data": {
      "image/png": "[encoded data removed]",
      "text/plain": [
       "<Figure size 600x400 with 1 Axes>"
      ]
     },
     "metadata": {},
     "output_type": "display_data"
    }
   ],
   "source": [
    "playoff_win_rates = [home_win_rate_playoff, away_win_rate_playoff]\n",
    "labels = ['Home', 'Away']\n",
    "\n",
    "plt.figure(figsize=(6, 4))\n",
    "plt.bar(labels, playoff_win_rates, color=['skyblue', 'salmon'])\n",
    "plt.title('Win Rate in Playoff Games')\n",
    "plt.xlabel('Team')\n",
    "plt.ylabel('Win Rate (%)')\n",
    "plt.ylim(0, 100)\n",
    "plt.show()\n",
    "\n",
    "regular_win_rates = [home_win_rate_regular, away_win_rate_regular]\n",
    "labels = ['Home', 'Away']\n",
    "\n",
    "plt.figure(figsize=(6, 4))\n",
    "plt.bar(labels, regular_win_rates, color=['skyblue', 'salmon'])\n",
    "plt.title('Win Rate in Regular Season Games')\n",
    "plt.xlabel('Team')\n",
    "plt.ylabel('Win Rate (%)')\n",
    "plt.ylim(0, 100) \n",
    "plt.show()"
   ]
  },
  {
   "cell_type": "markdown",
   "metadata": {},
   "source": [
    "### **What the visualizations tell us**:\n",
    "After analyzing **regular season** and **playoff games**, the visualizations show that the **home team consistently outperforms** the away team in terms of _win rate_ and _win margin_, regardless of the game type. Furthermore, both the _average win margin_ and _win rate_ are **higher** for the home team in **playoff games** compared to **regular season matchups**. These findings **strongly support** the concept of _home-field advantage_."
   ]
  },
  {
   "cell_type": "markdown",
   "metadata": {},
   "source": [
    "Below I conduct a **t-test** with the _win margins_ of **playoff versus regular season games** to see if this is **statistically significant**."
   ]
  },
  {
   "cell_type": "code",
   "execution_count": 128,
   "metadata": {},
   "outputs": [
    {
     "name": "stdout",
     "output_type": "stream",
     "text": [
      "Playoffs vs. Regular Season - T-statistic: 5.848919543924191, P-value: 5.056490425172657e-09\n"
     ]
    }
   ],
   "source": [
    "playoff_margins = merged_game_data[merged_game_data['schedule_playoff'] == True]['home_win_margin']\n",
    "regular_margins = merged_game_data[merged_game_data['schedule_playoff'] == False]['home_win_margin']\n",
    "\n",
    "t_stat_playoff, p_value_playoff = stats.ttest_ind(playoff_margins, regular_margins, nan_policy='omit')\n",
    "\n",
    "print(f\"Playoffs vs. Regular Season - T-statistic: {t_stat_playoff}, P-value: {p_value_playoff}\")"
   ]
  },
  {
   "cell_type": "markdown",
   "metadata": {},
   "source": [
    "There is a **highly significant difference** between _win margins_ in **playoff games** versus **regular season games**, with **home teams** performing **much better** in terms of _win margin_ during playoffs. This finding **supports** the idea that home-field advantage is even more pronounced in high-stakes playoff games compared to regular season games."
   ]
  },
  {
   "cell_type": "markdown",
   "metadata": {},
   "source": [
    "_________________________________________________________________________________________________________________________________________"
   ]
  },
  {
   "cell_type": "markdown",
   "metadata": {},
   "source": [
    "The next piece of data I start analyzing are **rivalries**. Rivalry games create a unique home-field advantage due to **larger, louder crowds** that **boost** the home team’s **energy** and **morale** while _throwing off_ the away team. The emotional intensity and history behind these games push the **home team to perform better**, especially with increased media attention and higher stakes to defend their turf. The home team can often gain a mental edge, feeling more confident and comfortable in front of their fans. Special traditions also fuel the home crowd, making the atmosphere even more intense and difficult for the away team to handle. This can also sway the refs to make calls a certain way. "
   ]
  },
  {
   "cell_type": "markdown",
   "metadata": {},
   "source": [
    "Below I create a dictionary of all of the rivalries in the NFL. \n",
    ">\n",
    "**Source**: https://www.espn.com"
   ]
  },
  {
   "cell_type": "code",
   "execution_count": 129,
   "metadata": {},
   "outputs": [
    {
     "data": {
      "text/html": [
       "<div>\n",
       "<style scoped>\n",
       "    .dataframe tbody tr th:only-of-type {\n",
       "        vertical-align: middle;\n",
       "    }\n",
       "\n",
       "    .dataframe tbody tr th {\n",
       "        vertical-align: top;\n",
       "    }\n",
       "\n",
       "    .dataframe thead th {\n",
       "        text-align: right;\n",
       "    }\n",
       "</style>\n",
       "<table border=\"1\" class=\"dataframe\">\n",
       "  <thead>\n",
       "    <tr style=\"text-align: right;\">\n",
       "      <th></th>\n",
       "      <th>team_home</th>\n",
       "      <th>team_away</th>\n",
       "      <th>is_rivalry</th>\n",
       "    </tr>\n",
       "  </thead>\n",
       "  <tbody>\n",
       "    <tr>\n",
       "      <th>14212</th>\n",
       "      <td>Detroit Lions</td>\n",
       "      <td>Tampa Bay Buccaneers</td>\n",
       "      <td>False</td>\n",
       "    </tr>\n",
       "    <tr>\n",
       "      <th>14213</th>\n",
       "      <td>Baltimore Ravens</td>\n",
       "      <td>Kansas City Chiefs</td>\n",
       "      <td>False</td>\n",
       "    </tr>\n",
       "    <tr>\n",
       "      <th>14214</th>\n",
       "      <td>Baltimore Ravens</td>\n",
       "      <td>Kansas City Chiefs</td>\n",
       "      <td>False</td>\n",
       "    </tr>\n",
       "    <tr>\n",
       "      <th>14215</th>\n",
       "      <td>San Francisco 49ers</td>\n",
       "      <td>Detroit Lions</td>\n",
       "      <td>False</td>\n",
       "    </tr>\n",
       "    <tr>\n",
       "      <th>14216</th>\n",
       "      <td>Kansas City Chiefs</td>\n",
       "      <td>San Francisco 49ers</td>\n",
       "      <td>False</td>\n",
       "    </tr>\n",
       "  </tbody>\n",
       "</table>\n",
       "</div>"
      ],
      "text/plain": [
       "                 team_home             team_away  is_rivalry\n",
       "14212        Detroit Lions  Tampa Bay Buccaneers       False\n",
       "14213     Baltimore Ravens    Kansas City Chiefs       False\n",
       "14214     Baltimore Ravens    Kansas City Chiefs       False\n",
       "14215  San Francisco 49ers         Detroit Lions       False\n",
       "14216   Kansas City Chiefs   San Francisco 49ers       False"
      ]
     },
     "execution_count": 129,
     "metadata": {},
     "output_type": "execute_result"
    }
   ],
   "source": [
    "rivalries = {\n",
    "    'Buffalo Bills': ['New England Patriots', 'Miami Dolphins'],\n",
    "    'Miami Dolphins': ['New England Patriots'],\n",
    "    'New England Patriots': ['Buffalo Bills', 'New York Jets', 'Indianapolis Colts'],\n",
    "    'New York Jets': ['New England Patriots', 'Miami Dolphins'],\n",
    "\n",
    "    'Baltimore Ravens': ['Pittsburgh Steelers'],\n",
    "    'Cincinnati Bengals': ['Pittsburgh Steelers'],\n",
    "    'Cleveland Browns': ['Pittsburgh Steelers'],\n",
    "    'Pittsburgh Steelers': ['Baltimore Ravens', 'Cincinnati Bengals'],\n",
    "\n",
    "    'Houston Texans': ['Indianapolis Colts'],\n",
    "    'Indianapolis Colts': ['New England Patriots', 'Houston Texans'],\n",
    "    'Jacksonville Jaguars': ['Tennessee Titans'],\n",
    "    'Tennessee Titans': ['Indianapolis Colts'],\n",
    "\n",
    "    'Denver Broncos': ['New England Patriots', 'Kansas City Chiefs'],\n",
    "    'Kansas City Chiefs': ['Denver Broncos'],\n",
    "    'Las Vegas Raiders': ['Denver Broncos'],\n",
    "    'Los Angeles Chargers': ['Las Vegas Raiders'],\n",
    "\n",
    "    'Dallas Cowboys': ['Washington Commanders', 'New York Giants', 'Philadelphia Eagles'],\n",
    "    'New York Giants': ['Dallas Cowboys'],\n",
    "    'Philadelphia Eagles': ['Dallas Cowboys'],\n",
    "    'Washington Commanders': ['Dallas Cowboys'],\n",
    "\n",
    "    'Chicago Bears': ['Green Bay Packers'],\n",
    "    'Detroit Lions': ['Green Bay Packers'],\n",
    "    'Green Bay Packers': ['Chicago Bears', 'Minnesota Vikings'],\n",
    "    'Minnesota Vikings': ['Green Bay Packers'],\n",
    "\n",
    "    'Atlanta Falcons': ['New Orleans Saints'],\n",
    "    'Carolina Panthers': ['Atlanta Falcons'],\n",
    "    'New Orleans Saints': ['Atlanta Falcons'],\n",
    "    'Tampa Bay Buccaneers': ['Atlanta Falcons'],\n",
    "\n",
    "    'Arizona Cardinals': ['Seattle Seahawks'],\n",
    "    'Los Angeles Rams': ['San Francisco 49ers'],\n",
    "    'San Francisco 49ers': ['Seattle Seahawks'],\n",
    "    'Seattle Seahawks': ['Arizona Cardinals', 'San Francisco 49ers']\n",
    "}\n",
    "\n",
    "def is_rivalry_game(home_team, away_team, rivalries):\n",
    "    if home_team in rivalries and away_team in rivalries[home_team]:\n",
    "        return True\n",
    "    return False\n",
    "\n",
    "merged_game_data['is_rivalry'] = merged_game_data.apply(lambda row: is_rivalry_game(row['team_home'], row['team_away'], rivalries), axis=1)\n",
    "\n",
    "merged_game_data[['team_home', 'team_away', 'is_rivalry']].tail()"
   ]
  },
  {
   "cell_type": "markdown",
   "metadata": {},
   "source": [
    "This calculates the average amount the home team wins by in both rivalry and non-rivalry games."
   ]
  },
  {
   "cell_type": "code",
   "execution_count": 130,
   "metadata": {},
   "outputs": [
    {
     "name": "stdout",
     "output_type": "stream",
     "text": [
      "Average Home Win Margin (Rivalry Games): 1.7475130270014212\n",
      "Average Home Win Margin (Non-Rivalry Games): 2.8223195109862877\n"
     ]
    }
   ],
   "source": [
    "rivalry_games = merged_game_data[merged_game_data['is_rivalry'] == True]\n",
    "non_rivalry_games = merged_game_data[merged_game_data['is_rivalry'] == False]\n",
    "\n",
    "avg_win_margin_rivalry = rivalry_games['home_win_margin'].mean()\n",
    "avg_win_margin_non_rivalry = non_rivalry_games['home_win_margin'].mean()\n",
    "\n",
    "print(f'Average Home Win Margin (Rivalry Games): {avg_win_margin_rivalry}')\n",
    "print(f'Average Home Win Margin (Non-Rivalry Games): {avg_win_margin_non_rivalry}')"
   ]
  },
  {
   "cell_type": "markdown",
   "metadata": {},
   "source": [
    "Add a column to our dataset which contains the **amount of points the away team won by in each game**. Mathematically, this is just the opposite of the _home_win_margin_. "
   ]
  },
  {
   "cell_type": "code",
   "execution_count": 131,
   "metadata": {},
   "outputs": [],
   "source": [
    "merged_game_data['away_win_margin'] = -merged_game_data['home_win_margin']"
   ]
  },
  {
   "cell_type": "code",
   "execution_count": 132,
   "metadata": {},
   "outputs": [
    {
     "name": "stdout",
     "output_type": "stream",
     "text": [
      "Average Home Win Margin (Rivalry Games): 1.7475130270014212\n",
      "Average Away Win Margin (Rivalry Games): -1.7475130270014212\n",
      "Average Home Win Margin (Non-Rivalry Games): 2.8223195109862877\n",
      "Average Away Win Margin (Non-Rivalry Games): -2.8223195109862877\n"
     ]
    }
   ],
   "source": [
    "rivalry_games = merged_game_data[merged_game_data['is_rivalry'] == True]\n",
    "non_rivalry_games = merged_game_data[merged_game_data['is_rivalry'] == False]\n",
    "\n",
    "avg_home_win_margin_rivalry = rivalry_games['home_win_margin'].mean()\n",
    "avg_away_win_margin_rivalry = rivalry_games['away_win_margin'].mean()\n",
    "\n",
    "avg_home_win_margin_non_rivalry = non_rivalry_games['home_win_margin'].mean()\n",
    "avg_away_win_margin_non_rivalry = non_rivalry_games['away_win_margin'].mean()\n",
    "\n",
    "print(f'Average Home Win Margin (Rivalry Games): {avg_home_win_margin_rivalry}')\n",
    "print(f'Average Away Win Margin (Rivalry Games): {avg_away_win_margin_rivalry}')\n",
    "print(f'Average Home Win Margin (Non-Rivalry Games): {avg_home_win_margin_non_rivalry}')\n",
    "print(f'Average Away Win Margin (Non-Rivalry Games): {avg_away_win_margin_non_rivalry}')"
   ]
  },
  {
   "cell_type": "markdown",
   "metadata": {},
   "source": [
    "I create a graph to show the **average win margin** for both **home** and **away** teams in **rivalry** games, then the same for **non-rivalry** games. "
   ]
  },
  {
   "cell_type": "code",
   "execution_count": 133,
   "metadata": {},
   "outputs": [
    {
     "data": {
      "image/png": "[encoded data removed]",
      "text/plain": [
       "<Figure size 600x400 with 1 Axes>"
      ]
     },
     "metadata": {},
     "output_type": "display_data"
    },
    {
     "data": {
      "image/png": "[encoded data removed]",
      "text/plain": [
       "<Figure size 600x400 with 1 Axes>"
      ]
     },
     "metadata": {},
     "output_type": "display_data"
    }
   ],
   "source": [
    "rivalry_margins = [avg_home_win_margin_rivalry, avg_away_win_margin_rivalry]\n",
    "labels = ['Home', 'Away']\n",
    "\n",
    "plt.figure(figsize=(6, 4))\n",
    "plt.bar(labels, rivalry_margins, color=['skyblue', 'salmon'])\n",
    "plt.title('Average Win Margin in Rivalry Games')\n",
    "plt.xlabel('Team')\n",
    "plt.ylabel('Average Win Margin')\n",
    "plt.show()\n",
    "\n",
    "non_rivalry_margins = [avg_home_win_margin_non_rivalry, avg_away_win_margin_non_rivalry]\n",
    "labels = ['Home', 'Away']\n",
    "\n",
    "plt.figure(figsize=(6, 4))\n",
    "plt.bar(labels, non_rivalry_margins, color=['skyblue', 'salmon'])\n",
    "plt.title('Average Win Margin in Non-Rivalry Games')\n",
    "plt.xlabel('Team')\n",
    "plt.ylabel('Average Win Margin')\n",
    "plt.show()"
   ]
  },
  {
   "cell_type": "markdown",
   "metadata": {},
   "source": [
    "I do the same below, just with **win percentages** instead of **win margin**."
   ]
  },
  {
   "cell_type": "code",
   "execution_count": 134,
   "metadata": {},
   "outputs": [],
   "source": [
    "home_win_percentage_rivalry = (rivalry_games['home_team_won'].mean()) * 100\n",
    "home_win_percentage_non_rivalry = (non_rivalry_games['home_team_won'].mean()) * 100\n",
    "\n",
    "away_win_percentage_rivalry = 100 - home_win_percentage_rivalry\n",
    "away_win_percentage_non_rivalry = 100 - home_win_percentage_non_rivalry"
   ]
  },
  {
   "cell_type": "code",
   "execution_count": 135,
   "metadata": {},
   "outputs": [
    {
     "data": {
      "image/png": "[encoded data removed]",
      "text/plain": [
       "<Figure size 600x400 with 1 Axes>"
      ]
     },
     "metadata": {},
     "output_type": "display_data"
    },
    {
     "data": {
      "image/png": "[encoded data removed]",
      "text/plain": [
       "<Figure size 600x400 with 1 Axes>"
      ]
     },
     "metadata": {},
     "output_type": "display_data"
    }
   ],
   "source": [
    "rivalry_win_percentages = [home_win_percentage_rivalry, away_win_percentage_rivalry]\n",
    "labels = ['Home', 'Away']\n",
    "\n",
    "plt.figure(figsize=(6, 4))\n",
    "plt.bar(labels, rivalry_win_percentages, color=['skyblue', 'salmon'])\n",
    "plt.title('Win Percentage in Rivalry Games')\n",
    "plt.xlabel('Team')\n",
    "plt.ylabel('Win Percentage (%)')\n",
    "plt.ylim(0, 100)\n",
    "plt.show()\n",
    "\n",
    "non_rivalry_win_percentages = [home_win_percentage_non_rivalry, away_win_percentage_non_rivalry]\n",
    "labels = ['Home', 'Away']\n",
    "\n",
    "plt.figure(figsize=(6, 4))\n",
    "plt.bar(labels, non_rivalry_win_percentages, color=['skyblue', 'salmon'])\n",
    "plt.title('Win Percentage in Non-Rivalry Games')\n",
    "plt.xlabel('Team')\n",
    "plt.ylabel('Win Percentage (%)')\n",
    "plt.ylim(0, 100) \n",
    "plt.show()"
   ]
  },
  {
   "cell_type": "markdown",
   "metadata": {},
   "source": [
    "### **What can be drawn from this:** \n",
    "The visualizations above suggest that rivalry matchups tend to be closer games, with smaller win margins compared to non-rivalry games. However, the data still **supports** the concept of __home-field advantage__, as home teams win by an average of 15% more than away teams in non-rivalry matchups and by 5% more in rivalry games. In every graph, the home team consistently outperforms the away team on average, further **reinforcing** the idea of **home-field advantage**."
   ]
  },
  {
   "cell_type": "markdown",
   "metadata": {},
   "source": [
    "To **statistically validate** these visual observations, I conducted two **t-tests** to determine if the differences in _win margins_ and _win percentages_ between **rivalry** and **non-rivalry games** are **significant**. This will help us confirm whether the trends shown in the graphs are due to chance or reflect a meaningful pattern."
   ]
  },
  {
   "cell_type": "code",
   "execution_count": 136,
   "metadata": {},
   "outputs": [
    {
     "name": "stdout",
     "output_type": "stream",
     "text": [
      "Rivalry vs. Non-Rivalry Games - T-statistic: -3.065229399285348, P-value: 0.002179108878479995\n"
     ]
    }
   ],
   "source": [
    "rivalry_margins = merged_game_data[merged_game_data['is_rivalry'] == True]['home_win_margin']\n",
    "non_rivalry_margins = merged_game_data[merged_game_data['is_rivalry'] == False]['home_win_margin']\n",
    "\n",
    "t_stat_rivalry, p_value_rivalry = stats.ttest_ind(rivalry_margins, non_rivalry_margins, nan_policy='omit')\n",
    "\n",
    "print(f\"Rivalry vs. Non-Rivalry Games - T-statistic: {t_stat_rivalry}, P-value: {p_value_rivalry}\")"
   ]
  },
  {
   "cell_type": "markdown",
   "metadata": {},
   "source": [
    "This result shows that **home teams** tend to win by **smaller margins** in **rivalry games** compared to **non-rivalry games**. The intensity and competitiveness of rivalry games likely contribute to **closer matchups**, making it harder for the **home team** to win by a large margin."
   ]
  },
  {
   "cell_type": "code",
   "execution_count": 137,
   "metadata": {},
   "outputs": [
    {
     "name": "stdout",
     "output_type": "stream",
     "text": [
      "Rivalry vs. Non-Rivalry Win Rates - T-statistic: -2.8693584943215797, P-value: 0.004119115185911054\n"
     ]
    }
   ],
   "source": [
    "rivalry_win_rates = merged_game_data[merged_game_data['is_rivalry'] == True]['home_team_won']\n",
    "non_rivalry_win_rates = merged_game_data[merged_game_data['is_rivalry'] == False]['home_team_won']\n",
    "\n",
    "t_stat_win_rivalry, p_value_win_rivalry = stats.ttest_ind(rivalry_win_rates, non_rivalry_win_rates, nan_policy='omit')\n",
    "\n",
    "print(f\"Rivalry vs. Non-Rivalry Win Rates - T-statistic: {t_stat_win_rivalry}, P-value: {p_value_win_rivalry}\")"
   ]
  },
  {
   "cell_type": "markdown",
   "metadata": {},
   "source": [
    "The **t-test** comparing **win rates** in _rivalry_ vs. _non-rivalry_ games resulted in a **T-statistic of -2.87** and a **P-value of 0.0041**, indicating a **statistically significant difference**. The _negative t-statistic_ suggests that home teams win **less** often in **rivalry games** compared to **non-rivalry games**. This shows that rivalry games tend to be **more competitive**, making it **harder** for home teams to secure a win, even though they typically have the home-field advantage."
   ]
  },
  {
   "cell_type": "markdown",
   "metadata": {},
   "source": [
    "_________________________________________________________________________________________________________________________________________"
   ]
  }
 ],
 "metadata": {
  "kernelspec": {
   "display_name": "Python 3",
   "language": "python",
   "name": "python3"
  },
  "language_info": {
   "codemirror_mode": {
    "name": "ipython",
    "version": 3
   },
   "file_extension": ".py",
   "mimetype": "text/x-python",
   "name": "python",
   "nbconvert_exporter": "python",
   "pygments_lexer": "ipython3",
   "version": "3.12.6"
  }
 },
 "nbformat": 4,
 "nbformat_minor": 2
}
